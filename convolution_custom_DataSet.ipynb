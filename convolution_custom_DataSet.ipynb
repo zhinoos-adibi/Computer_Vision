{
  "nbformat": 4,
  "nbformat_minor": 0,
  "metadata": {
    "colab": {
      "name": "convolution_custom_DataSet.ipynb",
      "provenance": [],
      "authorship_tag": "ABX9TyPCAWy5+5/Gwpg8TLIzpnR4",
      "include_colab_link": true
    },
    "kernelspec": {
      "name": "python3",
      "display_name": "Python 3"
    },
    "language_info": {
      "name": "python"
    }
  },
  "cells": [
    {
      "cell_type": "markdown",
      "metadata": {
        "id": "view-in-github",
        "colab_type": "text"
      },
      "source": [
        "<a href=\"https://colab.research.google.com/github/zhinoos-adibi/Deep-Learning-based-Computer_Vision/blob/main/convolution_custom_DataSet.ipynb\" target=\"_parent\"><img src=\"https://colab.research.google.com/assets/colab-badge.svg\" alt=\"Open In Colab\"/></a>"
      ]
    },
    {
      "cell_type": "markdown",
      "source": [
        "COURSE: A deep understanding of deep learning\n",
        "\n",
        "SECTION: Convolution and transformations\n",
        "\n",
        "LECTURE: Creating and using custom DataSets\n",
        "\n",
        "TEACHER: Mike X Cohen, sincxpress.com\n",
        "\n",
        "COURSE URL: udemy.com/course/dudl/?couponCode=202108\n"
      ],
      "metadata": {
        "id": "bQWOpov2ZpF_"
      }
    },
    {
      "cell_type": "code",
      "source": [
        "# FYI, review paper on data augmentation in DL:\n",
        "# https://journalofbigdata.springeropen.com/articles/10.1186/s40537-019-0197-0"
      ],
      "metadata": {
        "id": "Q-fbhPBtZq_I"
      },
      "execution_count": null,
      "outputs": []
    },
    {
      "cell_type": "code",
      "source": [
        "from google.colab import drive\n",
        "drive.mount('/content/gdrive')\n",
        "dir = '/content/gdrive/My Drive/mnist_train_small.csv'"
      ],
      "metadata": {
        "colab": {
          "base_uri": "https://localhost:8080/"
        },
        "id": "JGKHf851pmtm",
        "outputId": "c86700b9-a935-4885-c232-28f5d26d240f"
      },
      "execution_count": 4,
      "outputs": [
        {
          "output_type": "stream",
          "name": "stdout",
          "text": [
            "Drive already mounted at /content/gdrive; to attempt to forcibly remount, call drive.mount(\"/content/gdrive\", force_remount=True).\n"
          ]
        }
      ]
    },
    {
      "cell_type": "code",
      "source": [
        "# import libraries\n",
        "import numpy as np\n",
        "import torch\n",
        "\n",
        "# import transformations and dataset/loader\n",
        "import torchvision\n",
        "import torchvision.transforms as T\n",
        "from torch.utils.data import Dataset,DataLoader\n",
        "\n",
        "import matplotlib.pyplot as plt\n",
        "from IPython import display\n",
        "display.set_matplotlib_formats('svg')"
      ],
      "metadata": {
        "id": "qMtC34A1Zw3Q"
      },
      "execution_count": 5,
      "outputs": []
    },
    {
      "cell_type": "markdown",
      "source": [
        "\n",
        "\n",
        "```\n",
        "# Import the data```\n",
        "\n"
      ],
      "metadata": {
        "id": "1A5YtbziZ0Go"
      }
    },
    {
      "cell_type": "code",
      "source": [
        "# import dataset (comes with colab!)\n",
        "data = np.loadtxt(open('/content/gdrive/My Drive/mnist_train_small.csv'),delimiter=',')\n",
        "\n",
        "# extract only the first 8\n",
        "labels = data[:8,0]\n",
        "data   = data[:8,1:]\n",
        "\n",
        "# normalize the data to a range of [0 1]\n",
        "dataNorm = data / np.max(data)\n",
        "\n",
        "# reshape to 2D!\n",
        "dataNorm = dataNorm.reshape(dataNorm.shape[0],1,28,28)\n",
        "\n",
        "# check sizes\n",
        "print(dataNorm.shape)\n",
        "print(labels.shape)\n",
        "\n",
        "# convert to torch tensor format\n",
        "dataT   = torch.tensor( dataNorm ).float()\n",
        "labelsT = torch.tensor( labels ).long()"
      ],
      "metadata": {
        "colab": {
          "base_uri": "https://localhost:8080/"
        },
        "id": "1ISv8BoYZ4bt",
        "outputId": "4af4fb44-0a95-408c-8146-a06032990590"
      },
      "execution_count": 7,
      "outputs": [
        {
          "output_type": "stream",
          "name": "stdout",
          "text": [
            "(8, 1, 28, 28)\n",
            "(8,)\n"
          ]
        }
      ]
    },
    {
      "cell_type": "markdown",
      "source": [
        "Create a new class to create our custom\n",
        " dataset type"
      ],
      "metadata": {
        "id": "4REoaxGiZ8EQ"
      }
    },
    {
      "cell_type": "code",
      "source": [
        "# My custom dataset class is modeled after the official class\n",
        "#??torch.utils.data.TensorDataset"
      ],
      "metadata": {
        "id": "5JirZChxaBSm"
      },
      "execution_count": null,
      "outputs": []
    },
    {
      "cell_type": "code",
      "source": [
        "class customDataset(Dataset):\n",
        "  def __init__(self, tensors, transform=None):\n",
        "\n",
        "    # check that sizes of data and labels match\n",
        "    assert all(tensors[0].size(0)==t.size(0) for t in tensors), \"Size mismatch between tensors\"\n",
        "    \n",
        "    # assign inputs\n",
        "    self.tensors   = tensors\n",
        "    self.transform = transform\n",
        "\n",
        "  # what to do when someone wants and item from the dataset\n",
        "  def __getitem__(self, index): \n",
        "\n",
        "    # return transformed version of x if there are transforms\n",
        "    if self.transform:\n",
        "      x = self.transform(self.tensors[0][index])\n",
        "    else:\n",
        "      x = self.tensors[0][index]\n",
        "\n",
        "    # and return label\n",
        "    y = self.tensors[1][index]\n",
        "\n",
        "    return x,y # return the (data,label) tuple\n",
        "\n",
        "  def __len__(self):\n",
        "    return self.tensors[0].size(0)"
      ],
      "metadata": {
        "id": "PJtWqDtcaDdG"
      },
      "execution_count": 8,
      "outputs": []
    },
    {
      "cell_type": "code",
      "source": [
        ""
      ],
      "metadata": {
        "id": "1wx6DBqUaIyX"
      },
      "execution_count": null,
      "outputs": []
    },
    {
      "cell_type": "markdown",
      "source": [
        "# data -> dataset -> dataloader"
      ],
      "metadata": {
        "id": "NLG-4mcaaK9u"
      }
    },
    {
      "cell_type": "code",
      "source": [
        "# Note: several transforms work only on PIL-format data, so it's common to transform\n",
        "#       to PIL, apply transformations, then transform back to tensor.\n",
        "\n",
        "# create a list of transforms to apply to the image\n",
        "imgtrans = T.Compose([ \n",
        "                      T.ToPILImage(),\n",
        "                      T.RandomVerticalFlip(p=.5),\n",
        "                      # T.RandomRotation(90), \n",
        "                      T.ToTensor()\n",
        "                       ])"
      ],
      "metadata": {
        "id": "3wclXavWaMEx"
      },
      "execution_count": 10,
      "outputs": []
    },
    {
      "cell_type": "code",
      "source": [
        "# now convert the data into datasets and then dataloaders\n",
        "\n",
        "# convert into PyTorch Datasets\n",
        "# NOTE: we have no test data here, but you should apply the same transformations to the test data\n",
        "train_data = customDataset((dataT,labelsT),imgtrans)\n",
        "\n",
        "# translate into dataloader objects\n",
        "dataLoaded = DataLoader(train_data,batch_size=8,shuffle=False)"
      ],
      "metadata": {
        "id": "mlWS2FiEaN-v"
      },
      "execution_count": 11,
      "outputs": []
    },
    {
      "cell_type": "code",
      "source": [
        "type(train_data)"
      ],
      "metadata": {
        "id": "e2x2-ya3aRXh"
      },
      "execution_count": null,
      "outputs": []
    },
    {
      "cell_type": "markdown",
      "source": [
        "\n",
        "\n",
        "```\n",
        "# Let's see the effects!```\n",
        "\n"
      ],
      "metadata": {
        "id": "7b-6QlzFaP5e"
      }
    },
    {
      "cell_type": "code",
      "source": [
        "# import data from the dataloader, just like during training\n",
        "X,y = next(iter(dataLoaded))\n",
        "\n",
        "\n",
        "# create a figure\n",
        "fig,axs = plt.subplots(2,8,figsize=(16,4))\n",
        "\n",
        "\n",
        "# loop over images in the dataset\n",
        "for i in range(8):\n",
        "\n",
        "  # draw images\n",
        "  axs[0,i].imshow(dataT[i,0,:,:].detach(),cmap='gray')\n",
        "  axs[1,i].imshow(X[i,0,:,:].detach(),cmap='gray')\n",
        "\n",
        "  # some niceties\n",
        "  for row in range(2):\n",
        "    axs[row,i].set_xticks([])\n",
        "    axs[row,i].set_yticks([])\n",
        "\n",
        "# row labels\n",
        "axs[0,0].set_ylabel('Original')\n",
        "axs[1,0].set_ylabel('torch dataset')\n",
        "\n",
        "plt.show()"
      ],
      "metadata": {
        "colab": {
          "base_uri": "https://localhost:8080/",
          "height": 349
        },
        "id": "9zIJi0mnaWcf",
        "outputId": "2bc9d902-686d-4d9d-a777-e11f9fe2987e"
      },
      "execution_count": 12,
      "outputs": [
        {
          "output_type": "display_data",
          "data": {
            "text/plain": [
              "<Figure size 1152x288 with 16 Axes>"
            ],
            "image/svg+xml": "<?xml version=\"1.0\" encoding=\"utf-8\" standalone=\"no\"?>\n<!DOCTYPE svg PUBLIC \"-//W3C//DTD SVG 1.1//EN\"\n  \"http://www.w3.org/Graphics/SVG/1.1/DTD/svg11.dtd\">\n<!-- Created with matplotlib (https://matplotlib.org/) -->\n<svg height=\"231.48236pt\" version=\"1.1\" viewBox=\"0 0 920.878125 231.48236\" width=\"920.878125pt\" xmlns=\"http://www.w3.org/2000/svg\" xmlns:xlink=\"http://www.w3.org/1999/xlink\">\n <defs>\n  <style type=\"text/css\">\n*{stroke-linecap:butt;stroke-linejoin:round;}\n  </style>\n </defs>\n <g id=\"figure_1\">\n  <g id=\"patch_1\">\n   <path d=\"M 0 231.48236 \nL 920.878125 231.48236 \nL 920.878125 0 \nL 0 0 \nz\n\" style=\"fill:none;\"/>\n  </g>\n  <g id=\"axes_1\">\n   <g id=\"patch_2\">\n    <path d=\"M 20.878125 102.178723 \nL 115.856848 102.178723 \nL 115.856848 7.2 \nL 20.878125 7.2 \nz\n\" style=\"fill:#ffffff;\"/>\n   </g>\n   <g clip-path=\"url(#p0f347b1032)\">\n    <image height=\"95\" id=\"image456c6bcb59\" transform=\"scale(1 -1)translate(0 -95)\" width=\"95\" x=\"20.878125\" xlink:href=\"data:image/png;base64,\niVBORw0KGgoAAAANSUhEUgAAAF8AAABfCAYAAACOTBv1AAAABHNCSVQICAgIfAhkiAAABLtJREFUeJztm0sodVEUx/f1KnkWYoQyoEgoDMxICpEBKY+IAUkxEBKRgYFk4BFFhGKEmYGBiAwkDAxEIkLKKyIJ3+hbrbVzfMd17l30rd/ov1v77L3vv2XZ+zxsSql3JbDgwr2A/xkxnxExnxExnxExnxExnxExnxExnxExnxExnxExnxExnxExnxExnxExnxExnxExnxExnxExnxE3qweMjY0l7YCAAKunMOTg4AD0ycmJ0+a1F8l8RsR8RsR8Riyp+Y2NjaCbmppIzMfHx4opTHF+fg56e3ubxEpLS0Hf3Nw4bU2fIZnPiJjPiE1Z8Lrg8/MzaFdXVxJ7enoC3d3dTWJ4O4i3qLW1tYZz3d3dGc6FS9z7O/1ZeB2Li4ugKyoqSD9nliTJfEbEfEbEfEYsqfmvr6+g9Vqbn58Pem5uznCMsLAw0Po2Edfy9PR00GdnZ6RfQkIC6OzsbBLLyckB7enpCfrq6or0GxgYAN3V1UViLy8vhuu3B8l8RsR8Riy/q6mzv79vqt/x8THoiYkJEqupqQEdGRkJemlpifTb29sDPT09TWJ4K5uWlgY6IyOD9GtrawMdHBxMYj09PaAPDw8/+BVfQzKfETGfEYefcCsrK0GPj4+bGi8oKIi08Un47e0NdExMDOlnTylwd3cn7eTkZNCzs7Mkhtu4FOLd3leQzGdEzGdEzGfEkprf29sLWr8jietkYWEhieH6/Rn4pNnQ0AB6d3eX9EtNTQWtn1ztwdvbm7Rvb28/XFNra6td40vmMyLmM+LwsoPx9fUl7cfHR1Pj4z//sbEx0Hl5eaQffm9ncHCQxPB19/f3pubVt83z8/OgExMTQcfFxZF+FxcXpsaXzGdEzGdEzGfEkruaOzs7oG02m2G/+Ph40l5bWzM1/sPDA+iysjLQHh4epB9+YIL/Dyml1PX1NeipqSlT8+q3DXAtx7dAqqqqSL/29nZT40vmMyLmM2LJVtPPzw/0ysoKiUVHR4PWT50RERGgcWkxi77F6+joAJ2VlWV4XUlJCejl5WUSw8+FXVxobuJyVVBQYDi+m5u5ai6Zz4iYz4glZQeDH54opdTQ0JBh3+LiYtAzMzPfntvLywu0/uBGPw3/RX89cHV1FbR+ws3MzPxwjNPTU9IODw//11KVUpL5rIj5jIj5jFhe86Oiokh7eHgYdEpKColtbGyAzs3NBX15efntdegPQlpaWkDX19eDNrst/Az9hDsyMmLqOsl8RsR8RiwvOzr4FLq+vk5i+J2ZyclJ0OXl5Y5cEilxo6OjJObv7294Hb7Rtrm5CVrfguJnvZ8hmc+ImM+Iw8sOpq+vj7Srq6tB44/U8H15paz/KAETGBhI2vjjCx1cThYWFr49t2Q+I2I+I2I+I06t+fihi1JKbW1tgQ4NDQVdV1dH+vX39zt2YUxI5jMi5jPi1LKjg1/hKyoqAo1f81BKqaSkJND4uerR0ZHjFucEJPMZEfMZEfMZYa35mM7OTtDNzc2G/fDxX/8I+rchmc+ImM/Ijyk7ISEhoPErhjr4VKxvSX8bkvmMiPmM/Jiy8z8imc+ImM+ImM+ImM+ImM+ImM+ImM+ImM+ImM+ImM+ImM+ImM+ImM/IHyeSQ8S3Y9L1AAAAAElFTkSuQmCC\" y=\"-7.178723\"/>\n   </g>\n   <g id=\"matplotlib.axis_1\"/>\n   <g id=\"matplotlib.axis_2\">\n    <g id=\"text_1\">\n     <!-- Original -->\n     <defs>\n      <path d=\"M 39.40625 66.21875 \nQ 28.65625 66.21875 22.328125 58.203125 \nQ 16.015625 50.203125 16.015625 36.375 \nQ 16.015625 22.609375 22.328125 14.59375 \nQ 28.65625 6.59375 39.40625 6.59375 \nQ 50.140625 6.59375 56.421875 14.59375 \nQ 62.703125 22.609375 62.703125 36.375 \nQ 62.703125 50.203125 56.421875 58.203125 \nQ 50.140625 66.21875 39.40625 66.21875 \nz\nM 39.40625 74.21875 \nQ 54.734375 74.21875 63.90625 63.9375 \nQ 73.09375 53.65625 73.09375 36.375 \nQ 73.09375 19.140625 63.90625 8.859375 \nQ 54.734375 -1.421875 39.40625 -1.421875 \nQ 24.03125 -1.421875 14.8125 8.828125 \nQ 5.609375 19.09375 5.609375 36.375 \nQ 5.609375 53.65625 14.8125 63.9375 \nQ 24.03125 74.21875 39.40625 74.21875 \nz\n\" id=\"DejaVuSans-79\"/>\n      <path d=\"M 41.109375 46.296875 \nQ 39.59375 47.171875 37.8125 47.578125 \nQ 36.03125 48 33.890625 48 \nQ 26.265625 48 22.1875 43.046875 \nQ 18.109375 38.09375 18.109375 28.8125 \nL 18.109375 0 \nL 9.078125 0 \nL 9.078125 54.6875 \nL 18.109375 54.6875 \nL 18.109375 46.1875 \nQ 20.953125 51.171875 25.484375 53.578125 \nQ 30.03125 56 36.53125 56 \nQ 37.453125 56 38.578125 55.875 \nQ 39.703125 55.765625 41.0625 55.515625 \nz\n\" id=\"DejaVuSans-114\"/>\n      <path d=\"M 9.421875 54.6875 \nL 18.40625 54.6875 \nL 18.40625 0 \nL 9.421875 0 \nz\nM 9.421875 75.984375 \nL 18.40625 75.984375 \nL 18.40625 64.59375 \nL 9.421875 64.59375 \nz\n\" id=\"DejaVuSans-105\"/>\n      <path d=\"M 45.40625 27.984375 \nQ 45.40625 37.75 41.375 43.109375 \nQ 37.359375 48.484375 30.078125 48.484375 \nQ 22.859375 48.484375 18.828125 43.109375 \nQ 14.796875 37.75 14.796875 27.984375 \nQ 14.796875 18.265625 18.828125 12.890625 \nQ 22.859375 7.515625 30.078125 7.515625 \nQ 37.359375 7.515625 41.375 12.890625 \nQ 45.40625 18.265625 45.40625 27.984375 \nz\nM 54.390625 6.78125 \nQ 54.390625 -7.171875 48.1875 -13.984375 \nQ 42 -20.796875 29.203125 -20.796875 \nQ 24.46875 -20.796875 20.265625 -20.09375 \nQ 16.0625 -19.390625 12.109375 -17.921875 \nL 12.109375 -9.1875 \nQ 16.0625 -11.328125 19.921875 -12.34375 \nQ 23.78125 -13.375 27.78125 -13.375 \nQ 36.625 -13.375 41.015625 -8.765625 \nQ 45.40625 -4.15625 45.40625 5.171875 \nL 45.40625 9.625 \nQ 42.625 4.78125 38.28125 2.390625 \nQ 33.9375 0 27.875 0 \nQ 17.828125 0 11.671875 7.65625 \nQ 5.515625 15.328125 5.515625 27.984375 \nQ 5.515625 40.671875 11.671875 48.328125 \nQ 17.828125 56 27.875 56 \nQ 33.9375 56 38.28125 53.609375 \nQ 42.625 51.21875 45.40625 46.390625 \nL 45.40625 54.6875 \nL 54.390625 54.6875 \nz\n\" id=\"DejaVuSans-103\"/>\n      <path d=\"M 54.890625 33.015625 \nL 54.890625 0 \nL 45.90625 0 \nL 45.90625 32.71875 \nQ 45.90625 40.484375 42.875 44.328125 \nQ 39.84375 48.1875 33.796875 48.1875 \nQ 26.515625 48.1875 22.3125 43.546875 \nQ 18.109375 38.921875 18.109375 30.90625 \nL 18.109375 0 \nL 9.078125 0 \nL 9.078125 54.6875 \nL 18.109375 54.6875 \nL 18.109375 46.1875 \nQ 21.34375 51.125 25.703125 53.5625 \nQ 30.078125 56 35.796875 56 \nQ 45.21875 56 50.046875 50.171875 \nQ 54.890625 44.34375 54.890625 33.015625 \nz\n\" id=\"DejaVuSans-110\"/>\n      <path d=\"M 34.28125 27.484375 \nQ 23.390625 27.484375 19.1875 25 \nQ 14.984375 22.515625 14.984375 16.5 \nQ 14.984375 11.71875 18.140625 8.90625 \nQ 21.296875 6.109375 26.703125 6.109375 \nQ 34.1875 6.109375 38.703125 11.40625 \nQ 43.21875 16.703125 43.21875 25.484375 \nL 43.21875 27.484375 \nz\nM 52.203125 31.203125 \nL 52.203125 0 \nL 43.21875 0 \nL 43.21875 8.296875 \nQ 40.140625 3.328125 35.546875 0.953125 \nQ 30.953125 -1.421875 24.3125 -1.421875 \nQ 15.921875 -1.421875 10.953125 3.296875 \nQ 6 8.015625 6 15.921875 \nQ 6 25.140625 12.171875 29.828125 \nQ 18.359375 34.515625 30.609375 34.515625 \nL 43.21875 34.515625 \nL 43.21875 35.40625 \nQ 43.21875 41.609375 39.140625 45 \nQ 35.0625 48.390625 27.6875 48.390625 \nQ 23 48.390625 18.546875 47.265625 \nQ 14.109375 46.140625 10.015625 43.890625 \nL 10.015625 52.203125 \nQ 14.9375 54.109375 19.578125 55.046875 \nQ 24.21875 56 28.609375 56 \nQ 40.484375 56 46.34375 49.84375 \nQ 52.203125 43.703125 52.203125 31.203125 \nz\n\" id=\"DejaVuSans-97\"/>\n      <path d=\"M 9.421875 75.984375 \nL 18.40625 75.984375 \nL 18.40625 0 \nL 9.421875 0 \nz\n\" id=\"DejaVuSans-108\"/>\n     </defs>\n     <g transform=\"translate(14.798438 74.254987)rotate(-90)scale(0.1 -0.1)\">\n      <use xlink:href=\"#DejaVuSans-79\"/>\n      <use x=\"78.710938\" xlink:href=\"#DejaVuSans-114\"/>\n      <use x=\"119.824219\" xlink:href=\"#DejaVuSans-105\"/>\n      <use x=\"147.607422\" xlink:href=\"#DejaVuSans-103\"/>\n      <use x=\"211.083984\" xlink:href=\"#DejaVuSans-105\"/>\n      <use x=\"238.867188\" xlink:href=\"#DejaVuSans-110\"/>\n      <use x=\"302.246094\" xlink:href=\"#DejaVuSans-97\"/>\n      <use x=\"363.525391\" xlink:href=\"#DejaVuSans-108\"/>\n     </g>\n    </g>\n   </g>\n   <g id=\"patch_3\">\n    <path d=\"M 20.878125 102.178723 \nL 20.878125 7.2 \n\" style=\"fill:none;stroke:#000000;stroke-linecap:square;stroke-linejoin:miter;stroke-width:0.8;\"/>\n   </g>\n   <g id=\"patch_4\">\n    <path d=\"M 115.856848 102.178723 \nL 115.856848 7.2 \n\" style=\"fill:none;stroke:#000000;stroke-linecap:square;stroke-linejoin:miter;stroke-width:0.8;\"/>\n   </g>\n   <g id=\"patch_5\">\n    <path d=\"M 20.878125 102.178723 \nL 115.856848 102.178723 \n\" style=\"fill:none;stroke:#000000;stroke-linecap:square;stroke-linejoin:miter;stroke-width:0.8;\"/>\n   </g>\n   <g id=\"patch_6\">\n    <path d=\"M 20.878125 7.2 \nL 115.856848 7.2 \n\" style=\"fill:none;stroke:#000000;stroke-linecap:square;stroke-linejoin:miter;stroke-width:0.8;\"/>\n   </g>\n  </g>\n  <g id=\"axes_2\">\n   <g id=\"patch_7\">\n    <path d=\"M 134.852593 102.178723 \nL 229.831316 102.178723 \nL 229.831316 7.2 \nL 134.852593 7.2 \nz\n\" style=\"fill:#ffffff;\"/>\n   </g>\n   <g clip-path=\"url(#pe784ed0567)\">\n    <image height=\"95\" id=\"imagee46d637e1b\" transform=\"scale(1 -1)translate(0 -95)\" width=\"95\" x=\"134.852593\" xlink:href=\"data:image/png;base64,\niVBORw0KGgoAAAANSUhEUgAAAF8AAABfCAYAAACOTBv1AAAABHNCSVQICAgIfAhkiAAABElJREFUeJztnU0odk8Yxuf5k6/kM1kQNkKRlJCyspCsUaJkYaFsRBF7hIWSZCFskNgQCzthiSJE8lEWFooiHynv7v7PfXrP+6LnnEvvc/1W13RPM9PV3TxzzpmZJ2CM+TAEwn/oAYQyNB8IzQdC84HQfCA0HwjNB0LzgdB8IOF+dhYdHa3KfX19olNTU0VnZ2ereqenp6IfHh5ELy8vq3o7OztBGadfMPOB0HwgNB9IwHj8VjM/P1/0wsKCiuXl5Yl+fX0VHRkZ+a2+Njc3RTc3N6vY5eXlt9r0EmY+EJoPJOjTTlxcnCqfnJyIPj8/V7Hh4WHRV1dXojMzM13bb21tFV1dXe1az57GjDGmq6tL9OTkpOi3tzfXNryGmQ+E5gMJ+rSTmJioyvZ0sr6+rmL19fVfbj88/P+H8pKSEhWbmpoSnZWVpWIRERGi7VVXS0uLqvf8/PzlMX0XZj4Qmg+E5gPx/Al3aGhIdFtbm4qVlpaKPjw8DGq/9jLWGGM6Ojp+W6+/v1+Ve3t7gzqOP8HMB0LzgXj+MWVsbEx0UVGR190JnZ2dqnx8fCx6fHxcdE9Pj6r3+Pgo2jklBRtmPhCaD4TmA/F8qfkTGR0dFd3e3q5i29vboisqKjwdBzMfCM0HEpLTTm5uruijoyMV47QTItB8IL5uF/wpFBcXo4dgjGHmQ6H5QGg+kJCc8+03mYFAQMXW1tZ8GwczHwjNB+L5E25SUpLojIwMFdvf3/es37KyMlWen5//7TiWlpZUvdraWs/G5ISZD4TmA6H5QDyf82dmZkTX1dWp2MXFhWh7z+TBwYGq9/T0JDosLEx0QkKCqmfv1ayqqnId0+DgoOiBgQEV417NEIHmA/H8CTc+Pl6086Cb/VHDPsB8dnam6tkfPGJjY0VXVla69us8cdLU1CR6cXHxb8P2BWY+EJoPxPPVjn36ZG5uzrXe6uqqaOfdC2lpaaLtEyb2askYvYpZWVlRsbu7u0+O2D+Y+UBoPhCaD8TzOT85OVm08xC0vQzNyckRbd+vY4xeksbExIje3d0N2jgRMPOB0Hwgvm4XnJiYUGX7HoXp6WnRzoPJ/yrMfCA0H4iv005hYaEq7+3tibbfoztviQr2i7CoqCjRLy8vQW37KzDzgdB8IDQfiK/bBf900sO+bXZ2dlbFGhoaPtW+vfXv48P9p8zet3N9fa1iIyMjore2tj7V73dh5gOh+UB8XWraV3QZY0xjY6Po7u5u0c6rwlJSUkTb32adH1PsrST39/eu47Dbs7czGmPM+/u76I2NDRWzn8hvbm5c2/8szHwgNB8IzQfyIw9Bp6enq7J9w6z9GsL5McX+A4Tb21vX9u1rH+153BhjCgoKRNfU1KiYvaW9vLxc9HdfUTDzgdB8ID9y2gkVmPlAaD4Qmg+E5gOh+UBoPhCaD4TmA6H5QGg+EJoPhOYDoflAaD4Qmg+E5gP5BQsJAn/n83nBAAAAAElFTkSuQmCC\" y=\"-7.178723\"/>\n   </g>\n   <g id=\"matplotlib.axis_3\"/>\n   <g id=\"matplotlib.axis_4\"/>\n   <g id=\"patch_8\">\n    <path d=\"M 134.852593 102.178723 \nL 134.852593 7.2 \n\" style=\"fill:none;stroke:#000000;stroke-linecap:square;stroke-linejoin:miter;stroke-width:0.8;\"/>\n   </g>\n   <g id=\"patch_9\">\n    <path d=\"M 229.831316 102.178723 \nL 229.831316 7.2 \n\" style=\"fill:none;stroke:#000000;stroke-linecap:square;stroke-linejoin:miter;stroke-width:0.8;\"/>\n   </g>\n   <g id=\"patch_10\">\n    <path d=\"M 134.852593 102.178723 \nL 229.831316 102.178723 \n\" style=\"fill:none;stroke:#000000;stroke-linecap:square;stroke-linejoin:miter;stroke-width:0.8;\"/>\n   </g>\n   <g id=\"patch_11\">\n    <path d=\"M 134.852593 7.2 \nL 229.831316 7.2 \n\" style=\"fill:none;stroke:#000000;stroke-linecap:square;stroke-linejoin:miter;stroke-width:0.8;\"/>\n   </g>\n  </g>\n  <g id=\"axes_3\">\n   <g id=\"patch_12\">\n    <path d=\"M 248.827061 102.178723 \nL 343.805785 102.178723 \nL 343.805785 7.2 \nL 248.827061 7.2 \nz\n\" style=\"fill:#ffffff;\"/>\n   </g>\n   <g clip-path=\"url(#p46170f91a3)\">\n    <image height=\"95\" id=\"image9de6cedf3c\" transform=\"scale(1 -1)translate(0 -95)\" width=\"95\" x=\"248.827061\" xlink:href=\"data:image/png;base64,\niVBORw0KGgoAAAANSUhEUgAAAF8AAABfCAYAAACOTBv1AAAABHNCSVQICAgIfAhkiAAABGhJREFUeJztnEsofl0UxverbyBCuYxcB8qAgcSAKDJ0KwaYYCQSpeSS20RkwIiJkgmSSEmSTIRyLTERJgYGzFwnwjdb/7XOx/u93nPO+3j7r9/o2a3NXp5Wyz7n7HM8xphPo0AIQSfwN6PmA1Hzgaj5QNR8IGo+kH/QCfjCzMwM6bq6OtK7u7tiXmtrK+mzszP3E7OJVj4QNR+IxwTBFe79/T3pmJgY0h6PR8xbWVkhXVVV5X5iNtHKB6LmA1HzgQTdVrOjo+PbeZeXl4FIxzG08oGo+UCCYqvJt5dHR0ekU1JSxLzt7W3SZWVlIvb8/OxOcjbQygei5gMJirbD4VeuS0tLIvb5+edPmZqaErGmpiZ3E/MDrXwgaj4QNR9I0PV8zvDwsBh3dXV9O3dsbIx0Z2enazn9BK18IGo+EEfaTlRUFOmHhwe7v85nwsLCxHhubo50eXm5iPEHMtnZ2aRvb29dyu7/0coHouYDUfOB+N3zo6OjSR8eHpK2npepr68n/fT05M9SPlNTU0Oa938r09PTpBsbG13NyRta+UDUfCB+t52EhATSx8fHpOPi4sS8wcFB0kNDQ/4s5TMhIX9qia9rjDF9fX1f/gxvn8YEdquslQ9EzQfiyBXu6uoq6dLSUhF7eXkh3dDQIGLLy8t2l/4W/tzXGGPW19dJ5+TkkN7b2xPzeP5utyCtfCBqPhA1H4gjPT80NJS0tYdmZmaSth7nKywsJH13d2c3Da8kJyeTPj09Jc3vyBpjTG9vL+mRkRFXc9LKB6LmA3H8Ge7AwIAY9/f3k+ZXoMYYMzk5Sbq9vZ30+/u7kyn9h+bm5i9zMEYeK8zKyhKx6+trR/PQygei5gNR84G4fm5nfn6edHV1tVycvU04OjpKuqenx82UBB8fH2LMz3u2tbWJmPX/g1208oGo+UBcbzsVFRWkZ2dnRSw8PJw0v/tpPc7Hj3s7vQ3d3NwU4+LiYtJXV1cixreer6+vttfWygei5gMJ6Cll6y6GnzLmuwwrExMTpBcXF0lbP/niD5GRkWLMj74kJSWJWF5eHun9/X3ba2vlA1Hzgaj5QAL67YXz83Mx5n3eW89vaWn5Ujvxma/Hx0cx5ltIa04FBQWktecHOWo+kIC2nbW1NTHmJ4T58b7Y2Fgxb2FhgXRtbS1p3gaMMWZra4v0ycmJiPEbd/w589vbm5jHr2rT0tJELCMjwziJVj4QNR/Ir3kPNzU1lbT1qN/BwQHp/Px80tYbdYmJiT6ttbOzQ3p8fFzE+NV0fHy8iF1cXJBOT0/3aS1vaOUDUfOBqPlAfk3P94eIiAgx5i83d3d3ixh/EMLfRrF+ldbblTZ/8S83N/dnyX6BVj4QNR9IULedn8C/RFhUVES6srJSzCspKSF9c3MjYvyY4cbGhu2ctPKBqPlA1Hwgf03P/41o5QNR84Go+UDUfCBqPhA1H4iaD0TNB6LmA1Hzgaj5QNR8IGo+EDUfiJoPRM0HouYDUfOBqPlA/gX67CT8owVi3gAAAABJRU5ErkJggg==\" y=\"-7.178723\"/>\n   </g>\n   <g id=\"matplotlib.axis_5\"/>\n   <g id=\"matplotlib.axis_6\"/>\n   <g id=\"patch_13\">\n    <path d=\"M 248.827061 102.178723 \nL 248.827061 7.2 \n\" style=\"fill:none;stroke:#000000;stroke-linecap:square;stroke-linejoin:miter;stroke-width:0.8;\"/>\n   </g>\n   <g id=\"patch_14\">\n    <path d=\"M 343.805785 102.178723 \nL 343.805785 7.2 \n\" style=\"fill:none;stroke:#000000;stroke-linecap:square;stroke-linejoin:miter;stroke-width:0.8;\"/>\n   </g>\n   <g id=\"patch_15\">\n    <path d=\"M 248.827061 102.178723 \nL 343.805785 102.178723 \n\" style=\"fill:none;stroke:#000000;stroke-linecap:square;stroke-linejoin:miter;stroke-width:0.8;\"/>\n   </g>\n   <g id=\"patch_16\">\n    <path d=\"M 248.827061 7.2 \nL 343.805785 7.2 \n\" style=\"fill:none;stroke:#000000;stroke-linecap:square;stroke-linejoin:miter;stroke-width:0.8;\"/>\n   </g>\n  </g>\n  <g id=\"axes_4\">\n   <g id=\"patch_17\">\n    <path d=\"M 362.801529 102.178723 \nL 457.780253 102.178723 \nL 457.780253 7.2 \nL 362.801529 7.2 \nz\n\" style=\"fill:#ffffff;\"/>\n   </g>\n   <g clip-path=\"url(#pb3f07710ba)\">\n    <image height=\"95\" id=\"imagea093b12d43\" transform=\"scale(1 -1)translate(0 -95)\" width=\"95\" x=\"362.801529\" xlink:href=\"data:image/png;base64,\niVBORw0KGgoAAAANSUhEUgAAAF8AAABfCAYAAACOTBv1AAAABHNCSVQICAgIfAhkiAAAA/9JREFUeJztnM0r7GEUx5+rG2XprSSxEDaEIm/FAqUsSKKsRNmRLK1sLGyQnbKwUUpIiUgWJH+AEqXEQolE3srb3Z17zmTmzpjfzPfO+H5W36fzzG9O307PPG/z++Wc+3QEQgI6gZ8MzQfyG51AOHR3d5v22NiY6OLiYhO7u7uLSk6hwMoHQvOB0HwgMT3mNzY2mnZ2drbo8fFxE+vv749KTqHAygdC84H8cjG8wu3q6jLt+fl50e/v7ybW1NQkemdnJ7KJBQkrHwjNB0LzgcT0VNN37L65uRGdmppqYmlpaVHJKRRY+UBoPpCYnmr6Mjs7K7qnp8fEjo6ORJeXl4t+enqKfGJ+YOUDoflA4mrYaW1tFb20tOS3nx6S5ubmIppTIFj5QGg+EJoPJKZXuL6kp6cH1a+kpEQ0x/wfCs0HEldTzYSEv7W0v79vYhUVFaI/Pj5E+54DR/OghZUPhOYDoflA4mqqqcfy0dFRE1tbWxOtfxs6OztNv4ODA9HPz89ep2hg5QOh+UDiaqqpSUxMNO3j42PROTk5fj83PT0tenBw0PvEFKx8IDQfSNwOO74sLCyI7ujo8Nvv7OxMdH19vYmdn597mhMrHwjNB0LzgUR8zM/MzBTd19dnYno6qKd/dXV1pp++W7O4uChaX/t2zrnNzU3R+fn5JlZYWCi6qKgoqNxPTk5Mu7a2VvT19XVQzwgEKx8IzQfiybCjbwTrK3vOOVdTU/Nlv1hkaGhI9NTUVNjPY+UDoflAaD4QTw5TVlZWROsx/l/s7u6KLigoEJ2RkfGtPPRBSGVl5beeEQiv/93CygdC84F4MuwEOpzQNDc3m/b29rZovQItLS01/d7e3r58nl7ROufc/f296JSUFBPb2NgQHWj4yMrKEv34+GhivneBwoWVD4TmA4nq1ZHPT/+L6cPDwy/1d7m6ujLt3t5e0WVlZaJXV1dNv6qqKtG5ubkmtr6+HnZeGlY+EJoPhOYD8WRXs62tTfTMzIyJBdrJ1DuDesfQC5KTk0374eFB9PDwsOiJiQlPvzcUWPlAaD4QT6aay8vLok9PT02surpadHt7u4kNDAyI1uex+pzWOTvF0+9QCPSW2JaWFtO+vb0VfXl56fdz0YSVD4TmA4nqdUHfjTX94tGkpCTReXl5fp9xcXEh+uXlxcT0Clq/4NQ55yYnJ0WPjIwEmXFkYeUDoflAaD4Q6BVxfZVQvx22oaHB9NNX//Tvwd7enum3tbUl+vX11cT0fSLfHU8UrHwgNB/Ij/lnyv8IKx8IzQdC84HQfCA0HwjNB0LzgdB8IDQfCM0HQvOB0HwgNB8IzQdC84HQfCA0HwjNB0LzgdB8IDQfCM0HQvOB/AHzvuZQRpbGxQAAAABJRU5ErkJggg==\" y=\"-7.178723\"/>\n   </g>\n   <g id=\"matplotlib.axis_7\"/>\n   <g id=\"matplotlib.axis_8\"/>\n   <g id=\"patch_18\">\n    <path d=\"M 362.801529 102.178723 \nL 362.801529 7.2 \n\" style=\"fill:none;stroke:#000000;stroke-linecap:square;stroke-linejoin:miter;stroke-width:0.8;\"/>\n   </g>\n   <g id=\"patch_19\">\n    <path d=\"M 457.780253 102.178723 \nL 457.780253 7.2 \n\" style=\"fill:none;stroke:#000000;stroke-linecap:square;stroke-linejoin:miter;stroke-width:0.8;\"/>\n   </g>\n   <g id=\"patch_20\">\n    <path d=\"M 362.801529 102.178723 \nL 457.780253 102.178723 \n\" style=\"fill:none;stroke:#000000;stroke-linecap:square;stroke-linejoin:miter;stroke-width:0.8;\"/>\n   </g>\n   <g id=\"patch_21\">\n    <path d=\"M 362.801529 7.2 \nL 457.780253 7.2 \n\" style=\"fill:none;stroke:#000000;stroke-linecap:square;stroke-linejoin:miter;stroke-width:0.8;\"/>\n   </g>\n  </g>\n  <g id=\"axes_5\">\n   <g id=\"patch_22\">\n    <path d=\"M 476.775997 102.178723 \nL 571.754721 102.178723 \nL 571.754721 7.2 \nL 476.775997 7.2 \nz\n\" style=\"fill:#ffffff;\"/>\n   </g>\n   <g clip-path=\"url(#p469360e3d6)\">\n    <image height=\"95\" id=\"image6aa3fa7ffc\" transform=\"scale(1 -1)translate(0 -95)\" width=\"95\" x=\"476.775997\" xlink:href=\"data:image/png;base64,\niVBORw0KGgoAAAANSUhEUgAAAF8AAABfCAYAAACOTBv1AAAABHNCSVQICAgIfAhkiAAABCFJREFUeJztnEsodVEYhpffpRQSklsxIEUuAylTZSBRxNBIUhgIUxkgJZIkRjJQyADJgJAiSQYyMxASUS65lEL8s6/1nb9zfmXv8x68z+jZfevYq7evZZ+91z5BxpgPQyD8QU/gN8PwgTB8IAwfCMMHwvCBMHwgDB8IwwfC8IEwfCAMHwjDBxLiz5PV1taq45GREfGIiAhXz723tyfe0dEhvry87Op5fcHOB8LwgQQZlx+mZGZmiu/u7qpaZGSk+MHBgfjQ0JAa9/LyIr6/vy9eU1OjxhUVFYkXFxerWnBwsPj7+7v46uqqGlddXS3+9PRk3ISdD4ThA3F92UlKShLf2NhQtfT0dPHS0lJxJ65AYmJi1HFDQ4N4Z2eneFhYmBp3eHgoXlhYqGqPj49fnpcNOx8IwwfC8IG4vubbpKWlqWN77bUvQ0dHR12dR1ZWlvjc3JyqZWRkiC8tLalaeXm5o/Ng5wNh+ED8uuwEIvn5+ep4e3tb/PX1VdXy8vLET05Ovnxudj4Qhg+E4QPx68OUQMS+S2qMMUdHR+LZ2dmqlpKSIs41/5vD8IEwfCAMHwjDB/Lrr3ZiY2PVcXR0tLj9rNcYY97e3hw9NzsfCMMHwvCBuL7m2w/Q6+vrVW1hYUHc85umm8TFxYn39PSoWnJysvj5+bmq7ezsODoPdj4Qhg/E9Ycp9k7kxsZGVXt4eBAvKysT39racnwe8fHx4l1dXeKeS6G9RdDe62OMMVNTU47OiZ0PhOEDYfhA/Hp74eND/3uxt4jbe2SamprUuMnJyU/9/YKCAvHKykpVa2trE7f3Z56dnalx9t4ce9u6G7DzgTB8INC7mpeXl+IJCQni4+Pjalx7e7u4rzdT7OXEfhPFGGPu7u7EBwcHxQcGBtS46+vrT83dCdj5QBg+EOiyMzY2Jr6+vi7e0tKixlVVVYnn5uZ6/XvT09Pis7Ozqra2tiZuf7NGws4HwvCBMHwgrq/5t7e3XmtRUVHi9p1Mzwcrw8PD4vZdR/tS1Zh/H34EOux8IAwfiOsPU8LDw8WPj4+9jrPf+ri6unJzSgEDOx8Iwwfi+tXO8/Oz+OLioqrV1dWJNzc3i09MTKhx9hWOr1+ksl9s+A6w84EwfCAMH4hfX4L2fOHYfm6bmJjo9XM3Nzfinlu6bebn58U3NzdVbWZmRvzi4uL/k/UD7HwgDB8I9LcXKioqxFtbW8VzcnK8fub09FQ8NTVV1ezL0NDQUFW7v78X7+/vF/fcpexP2PlAGD4Qhg/kR/3ejn1ntLu7W9VKSkrE7VsefX19alxvb69Ls/sXdj4Qhg/kRy07vrBfgltZWREPCdE3dn3tC3Iadj4Qhg/k1yw7gQg7HwjDB8LwgTB8IAwfCMMHwvCBMHwgDB8IwwfC8IEwfCAMH8hfeH4BObTyG7kAAAAASUVORK5CYII=\" y=\"-7.178723\"/>\n   </g>\n   <g id=\"matplotlib.axis_9\"/>\n   <g id=\"matplotlib.axis_10\"/>\n   <g id=\"patch_23\">\n    <path d=\"M 476.775997 102.178723 \nL 476.775997 7.2 \n\" style=\"fill:none;stroke:#000000;stroke-linecap:square;stroke-linejoin:miter;stroke-width:0.8;\"/>\n   </g>\n   <g id=\"patch_24\">\n    <path d=\"M 571.754721 102.178723 \nL 571.754721 7.2 \n\" style=\"fill:none;stroke:#000000;stroke-linecap:square;stroke-linejoin:miter;stroke-width:0.8;\"/>\n   </g>\n   <g id=\"patch_25\">\n    <path d=\"M 476.775997 102.178723 \nL 571.754721 102.178723 \n\" style=\"fill:none;stroke:#000000;stroke-linecap:square;stroke-linejoin:miter;stroke-width:0.8;\"/>\n   </g>\n   <g id=\"patch_26\">\n    <path d=\"M 476.775997 7.2 \nL 571.754721 7.2 \n\" style=\"fill:none;stroke:#000000;stroke-linecap:square;stroke-linejoin:miter;stroke-width:0.8;\"/>\n   </g>\n  </g>\n  <g id=\"axes_6\">\n   <g id=\"patch_27\">\n    <path d=\"M 590.750465 102.178723 \nL 685.729189 102.178723 \nL 685.729189 7.2 \nL 590.750465 7.2 \nz\n\" style=\"fill:#ffffff;\"/>\n   </g>\n   <g clip-path=\"url(#p06617472d0)\">\n    <image height=\"95\" id=\"imagea63d5edc33\" transform=\"scale(1 -1)translate(0 -95)\" width=\"95\" x=\"590.750465\" xlink:href=\"data:image/png;base64,\niVBORw0KGgoAAAANSUhEUgAAAF8AAABfCAYAAACOTBv1AAAABHNCSVQICAgIfAhkiAAABHxJREFUeJztnEsoRWsYhv99OqVIyci1DDAycBmICWLkksuATEyUlKTcylgxkgyFFAOXFEWKgUshAyIDCRPlUkKJlHI5s6/vX521zz6rtc+7Oe8zelf/t/b6vX2+1vpvAWPMtyEQ/kB34P8MzQdC84HQfCA0HwjNB0LzgdB8IDQfCM0HQvOB0HwgNB/In378SFpamuiRkRGrraKiQnQgELDabm9vRc/OzoqemJiw4s7OzvzoZsTBzAdC84EEjMfJlKysLNHDw8OiS0pKrLijoyPRubm5Vtv3d2iPbm9vFz0/Py/68fExtM5GKMx8IDQfiOeyMzQ0JLqjo0P06OioFdfZ2Sk6JyfHaktMTBTd3d0tOj8/3+6kekva2toSXV9fb8X9tDLEzAdC84HQfCC+fOHqmjw9PW21vb+/i97f33f9jbW1NdFzc3NWm/5KLi4uFr24uOga9/Ly8g+9xsPMB0LzgXguO/rfWn+p9vX1WXFNTU2in5+fXX/v7e1NdFVVldW2tLQkurS0VHRhYaEV19jYKHpmZsa1v9HR0aLj4+Nd+5SQkGBdNzQ0iF5dXRW9ubnp+hvBYOYDoflAaD4Qz8MLum5OTU2JrqmpseLOz89F7+3tWW3j4+MhPUsPS9TV1Yl2jqBqTk5OXPuRnJwsuqCgwIrTr83OUdenpyfRelT3/v7etR/BYOYDoflAPJcdTWxsrOj+/n6rrbm5WbQuVcaEPpkSrBSEck+w+/QrozHGrK+viz44OLDadNnRZcwrzHwgNB+IL2UnGElJSaK7urpc4zIyMkTrATJj7Hlgvdzk4uLCitNzxEVFRVbbzc2N6NraWtHHx8dW3MfHh2sf/YaZD4TmA6H5QMJe81E4R1BjYmJE69dE5xdusJFXv2HmA6H5QH5t2enp6bGuBwcH/zaura3NunauOwonzHwgNB8IzQfya2t+VFSUda2Xsbe0tIi+u7uz4lJTU8PbMQUzHwjNB/Jry44TvWlvd3dXtHNtTmtrq+ixsbGw9omZD4TmA4mYsqPnd/XKZmOM+fz89PVZAwMDont7e6225eVl0XrSJRww84HQfCA0H0jE1PzJyUnRzh0sfo806mXmusYbY0+m6CWBxvi/25GZD4TmA4GWHf1vvbOzI3p7e9uKq66uDlsfrq6urOuUlBTReieKMcYsLCz4+mxmPhCaD8SXfbhe0cv9Li8vRVdWVlpxeXl5og8PD33tg3M1s/M6nDDzgdB8IDQfCLTm69FLvSMkOzvbitvY2BBdXl4uWk+K/Bv0CGqoO1jCATMfCM0HEjEDa3rJhnN/bllZmeiHhwfRzjMP9H2vr69Wmz5STB895lylfHp6KlqXOGOMub6+dv8DPMDMB0LzgdB8IBFT84OhD7JOT08P6R6vr5D67IiVlZWQ7vEKMx8IzQfyI8pOXFyc6MzMTNHOyQ69CVqfQmiMMV9fX6L1Wf3OsyL+y7P6mflAaD6QH1F2fivMfCA0HwjNB0LzgdB8IDQfCM0HQvOB0HwgNB8IzQdC84HQfCB/AYciOAcq9FBgAAAAAElFTkSuQmCC\" y=\"-7.178723\"/>\n   </g>\n   <g id=\"matplotlib.axis_11\"/>\n   <g id=\"matplotlib.axis_12\"/>\n   <g id=\"patch_28\">\n    <path d=\"M 590.750465 102.178723 \nL 590.750465 7.2 \n\" style=\"fill:none;stroke:#000000;stroke-linecap:square;stroke-linejoin:miter;stroke-width:0.8;\"/>\n   </g>\n   <g id=\"patch_29\">\n    <path d=\"M 685.729189 102.178723 \nL 685.729189 7.2 \n\" style=\"fill:none;stroke:#000000;stroke-linecap:square;stroke-linejoin:miter;stroke-width:0.8;\"/>\n   </g>\n   <g id=\"patch_30\">\n    <path d=\"M 590.750465 102.178723 \nL 685.729189 102.178723 \n\" style=\"fill:none;stroke:#000000;stroke-linecap:square;stroke-linejoin:miter;stroke-width:0.8;\"/>\n   </g>\n   <g id=\"patch_31\">\n    <path d=\"M 590.750465 7.2 \nL 685.729189 7.2 \n\" style=\"fill:none;stroke:#000000;stroke-linecap:square;stroke-linejoin:miter;stroke-width:0.8;\"/>\n   </g>\n  </g>\n  <g id=\"axes_7\">\n   <g id=\"patch_32\">\n    <path d=\"M 704.724934 102.178723 \nL 799.703657 102.178723 \nL 799.703657 7.2 \nL 704.724934 7.2 \nz\n\" style=\"fill:#ffffff;\"/>\n   </g>\n   <g clip-path=\"url(#pb2708750d3)\">\n    <image height=\"95\" id=\"image2bc7ff8201\" transform=\"scale(1 -1)translate(0 -95)\" width=\"95\" x=\"704.724934\" xlink:href=\"data:image/png;base64,\niVBORw0KGgoAAAANSUhEUgAAAF8AAABfCAYAAACOTBv1AAAABHNCSVQICAgIfAhkiAAABJJJREFUeJztnEsoblEUx9eHEsWAASXJxEgiA0aeGYgJec0lGRgwU8grYwMGQgYGCCUieWQkmYhMZEJ5RTFBQnJHd921d/e793O+7fxv7vqN/qe9j737t6xvnbP32QEi+iAFQgR6Av8zaj4QNR+Img9EzQei5gNR84Go+UDUfCBqPhA1H4iaD0TNBxLl4o9ER0ezbm1tNdqSkpJYt7e3G20fH6G9UA0EAqyvrq5Y7+/vG/0qKipYDw0NhTTWxMSEcX18fBzSnFygkQ9EzQcSIAeLKf39/aw7OjqCDybSB5G3tOPlns/cl5qayvr6+jqke7yikQ9EzQfiudqJjY1lXVRUFNI98/PzXodjVlZWWJ+cnBhtubm5rAsKCoy2/Px81ikpKUH//traGmtZPRERXVxcfG6yf0EjH4iaD0TNB+K51JQl2dnZWdB+4+PjrJubm70M5YTExETWtbW1rEdGRox+skStq6sz2lz8Zkk08oGo+UCcvFj709NjTk6OiyHC5u7ujvXu7i7rh4cHo19cXBzr0tJSo21paYn16+tr2HPSyAei5gNR84F4LjXl64WNjQ3WeXl5Qe+JinLyExM2MpcvLy8bbXJhyP4tq6mpYb24uBj2PDTygaj5QJwsplRVVbGem5sL2q+3t9e4loswKDY3N43r4uJi1nbakU+4DQ0NYY+tkQ9EzQfipPxYXV1lfXBwYLTJJ1x768js7Cxre2HEL+TiDBFRSUmJb2Nr5ANR84Go+UCc5PyXlxfW6+vrRlt2djbr+Ph4oy0rK4s1Kuc/Pj4a17K8tEvNmJgY1pGRkazf3989ja2RD0TNB+LkCVci10eJiKanp38NZm3hW1hYYN3Y2MjaXuDwE5lC7LRzf3/POjMzk/Xt7a2nsTTygaj5QNR8IM5XN87Pz43r5+dn1nIBhoiourqatVzUmJqacj2toGRkZITcN9Rt5qGikQ9EzQfivNS0qaysZC33vRCZ/8aHh4esCwsLjX5fWXq2tbUZ1zJN2lsJJWlpaay9bh3XyAei5gP58rQjsbdplJeX/7bf2NiYcd3S0vJlc7KRu69PT0+NNpmSZJXk9cM5jXwgaj4QNR+IrzlfnsNARHR0dMQ6ISEh6H1+fpjc09PDurOz02jTfTvfCDUfiK/bhm9ubozr0dFR1n86s2FnZ4f15eUl6+3tbaNfd3d3uFOkrq4u1q5fpNlo5ANR84FAv1YYGBhgLSshuZ5LRJSens5avtCS21KIiN7e3ljbW0KCndnQ1NRk9IuI+BWP9gszOV8XaOQDUfOBqPlAfH3ClU+qRETDw8Os5TZz+5wbee31mC95KuHMzAxrO+fLj6Dr6+uNNj174Ruh5gPxNe3YW0dC/X7Xz9MFt7a2WNslrx7z9Y1Q84Go+UB8zfk2cn/O4OAgazv/u875Mnfv7e0Z/ezy8ivRyAei5gOBph2JLEPLysqMNvt02J/Y66jJycmsn56ejLa+vj7Wk5OTrOXxX36jkQ9EzQfyz6Sd/xGNfCBqPhA1H4iaD0TNB6LmA1Hzgaj5QNR8IGo+EDUfiJoPRM0H8gN48lPuwL8v9QAAAABJRU5ErkJggg==\" y=\"-7.178723\"/>\n   </g>\n   <g id=\"matplotlib.axis_13\"/>\n   <g id=\"matplotlib.axis_14\"/>\n   <g id=\"patch_33\">\n    <path d=\"M 704.724934 102.178723 \nL 704.724934 7.2 \n\" style=\"fill:none;stroke:#000000;stroke-linecap:square;stroke-linejoin:miter;stroke-width:0.8;\"/>\n   </g>\n   <g id=\"patch_34\">\n    <path d=\"M 799.703657 102.178723 \nL 799.703657 7.2 \n\" style=\"fill:none;stroke:#000000;stroke-linecap:square;stroke-linejoin:miter;stroke-width:0.8;\"/>\n   </g>\n   <g id=\"patch_35\">\n    <path d=\"M 704.724934 102.178723 \nL 799.703657 102.178723 \n\" style=\"fill:none;stroke:#000000;stroke-linecap:square;stroke-linejoin:miter;stroke-width:0.8;\"/>\n   </g>\n   <g id=\"patch_36\">\n    <path d=\"M 704.724934 7.2 \nL 799.703657 7.2 \n\" style=\"fill:none;stroke:#000000;stroke-linecap:square;stroke-linejoin:miter;stroke-width:0.8;\"/>\n   </g>\n  </g>\n  <g id=\"axes_8\">\n   <g id=\"patch_37\">\n    <path d=\"M 818.699402 102.178723 \nL 913.678125 102.178723 \nL 913.678125 7.2 \nL 818.699402 7.2 \nz\n\" style=\"fill:#ffffff;\"/>\n   </g>\n   <g clip-path=\"url(#pb7374da0a8)\">\n    <image height=\"95\" id=\"image78f3745c03\" transform=\"scale(1 -1)translate(0 -95)\" width=\"95\" x=\"818.699402\" xlink:href=\"data:image/png;base64,\niVBORw0KGgoAAAANSUhEUgAAAF8AAABfCAYAAACOTBv1AAAABHNCSVQICAgIfAhkiAAAA5RJREFUeJztnc8rdFEYxw/DSn40G0RsJKX8WFhYWqtRZCWNvVDK1shGKUXZSv4AxU42apRSsxhpxoapMU0ssJAkJXbPe56bebvua+Z7bu/3s/qenttx+vR05s6cmavKGPNpCIRq9AL+ZygfCOUDoXwglA+E8oFQPhDKB0L5QCgfCOUDoXwglA+E8oFQPhDKB0L5QCgfCOUDqUEv4KfEYjHJBwcHJa8rFotqfH5+Lvnp6Uny4+NjyTmOj4/V+OTkxPc6/cDOB0L5QCgfSJVx8Hs79fX1apxIJCTPz89Lrqkp/ZJ1f3+vxq+vr77+djQalVxbW6tqExMTkr2vB0Fg5wOhfCDO3Go2NjZKnpubU7XFxUVfc2xvb0teW1tTtbu7O19z9Pb2Sl5eXla1lZUVydXVf/r26OjI19xe2PlAKB8I5QNxZs8fHh6WvLq6qmqFQkFyMpmUPDU1pa4bGBiQ/PHxEWgdmUxGciqVUrXJyUnJS0tLkrnnhxDKB+LMtjMzM1Oytr6+Lnl/f1/y3t6eus5+1+mdz57DL1tbW2p8cXEhOR6P/3g+L+x8IJQPBPrBWnNzs2T7Lqa7u1td19HRIdm+84lEIuq6trY2yYODg6p2eHj4b4v10NDQIPn5+TnQHOx8IJQPhPKBQG81Ozs7Jdv7/Oenv5ch77vY29vbb3M5CLrP27DzgVA+EOi28/7+/m32np3W1dVVbE2VhJ0PhPKBUD4QZ763Yx9OeD+BtA/GvYfrYYadD4TygThzmHJ6eir55eVF1VpbWyXbn2QGPad1BXY+EMoH4szdjk06nVbj/v5+yfbXQ+wz1TDCzgdC+UAoH4gzt5o2l5eXatzX1yd5fHxcMvd8EhjKB+LktrO5uanGY2NjoJWUF3Y+EMoH4uQ7XC83NzeS29vbJY+MjKjrzs7OKram34CdD4TygVA+kFDs+favTHZ2diR7f4g2OjpaqSX9Cux8IJQPJBTbjk0ul5Pc0tKiatPT05LtH865CjsfCOUDoXwgodvz7Wfg2M+/McaYfD4veWhoSNUeHh7Kuq4gsPOBUD4QJw9T/sbV1ZXk6+trVevq6pLsfTbCxsZGeRcWAHY+EMoHErq7HZuenh41zmazkt/e3lRtdnZW8u7ubnkX5hN2PhDKB0L5QEK959tPdTXGmKamJskLCwuqZj9/x/4HCEjY+UAoH0iot52ww84HQvlAKB8I5QOhfCCUD+QLCCTM30yijnkAAAAASUVORK5CYII=\" y=\"-7.178723\"/>\n   </g>\n   <g id=\"matplotlib.axis_15\"/>\n   <g id=\"matplotlib.axis_16\"/>\n   <g id=\"patch_38\">\n    <path d=\"M 818.699402 102.178723 \nL 818.699402 7.2 \n\" style=\"fill:none;stroke:#000000;stroke-linecap:square;stroke-linejoin:miter;stroke-width:0.8;\"/>\n   </g>\n   <g id=\"patch_39\">\n    <path d=\"M 913.678125 102.178723 \nL 913.678125 7.2 \n\" style=\"fill:none;stroke:#000000;stroke-linecap:square;stroke-linejoin:miter;stroke-width:0.8;\"/>\n   </g>\n   <g id=\"patch_40\">\n    <path d=\"M 818.699402 102.178723 \nL 913.678125 102.178723 \n\" style=\"fill:none;stroke:#000000;stroke-linecap:square;stroke-linejoin:miter;stroke-width:0.8;\"/>\n   </g>\n   <g id=\"patch_41\">\n    <path d=\"M 818.699402 7.2 \nL 913.678125 7.2 \n\" style=\"fill:none;stroke:#000000;stroke-linecap:square;stroke-linejoin:miter;stroke-width:0.8;\"/>\n   </g>\n  </g>\n  <g id=\"axes_9\">\n   <g id=\"patch_42\">\n    <path d=\"M 20.878125 220.78236 \nL 115.856848 220.78236 \nL 115.856848 125.803636 \nL 20.878125 125.803636 \nz\n\" style=\"fill:#ffffff;\"/>\n   </g>\n   <g clip-path=\"url(#pafd959856f)\">\n    <image height=\"95\" id=\"image7e72cf73b8\" transform=\"scale(1 -1)translate(0 -95)\" width=\"95\" x=\"20.878125\" xlink:href=\"data:image/png;base64,\niVBORw0KGgoAAAANSUhEUgAAAF8AAABfCAYAAACOTBv1AAAABHNCSVQICAgIfAhkiAAABLtJREFUeJztm0sodVEUx/f1KnkWYoQyoEgoDMxICpEBKY+IAUkxEBKRgYFk4BFFhGKEmYGBiAwkDAxEIkLKKyIJ3+hbrbVzfMd17l30rd/ov1v77L3vv2XZ+zxsSql3JbDgwr2A/xkxnxExnxExnxExnxExnxExnxExnxExnxExnxExnxExnxExnxExnxExnxExnxExnxExnxExnxE3qweMjY0l7YCAAKunMOTg4AD0ycmJ0+a1F8l8RsR8RsR8Riyp+Y2NjaCbmppIzMfHx4opTHF+fg56e3ubxEpLS0Hf3Nw4bU2fIZnPiJjPiE1Z8Lrg8/MzaFdXVxJ7enoC3d3dTWJ4O4i3qLW1tYZz3d3dGc6FS9z7O/1ZeB2Li4ugKyoqSD9nliTJfEbEfEbEfEYsqfmvr6+g9Vqbn58Pem5uznCMsLAw0Po2Edfy9PR00GdnZ6RfQkIC6OzsbBLLyckB7enpCfrq6or0GxgYAN3V1UViLy8vhuu3B8l8RsR8Riy/q6mzv79vqt/x8THoiYkJEqupqQEdGRkJemlpifTb29sDPT09TWJ4K5uWlgY6IyOD9GtrawMdHBxMYj09PaAPDw8/+BVfQzKfETGfEYefcCsrK0GPj4+bGi8oKIi08Un47e0NdExMDOlnTylwd3cn7eTkZNCzs7Mkhtu4FOLd3leQzGdEzGdEzGfEkprf29sLWr8jietkYWEhieH6/Rn4pNnQ0AB6d3eX9EtNTQWtn1ztwdvbm7Rvb28/XFNra6td40vmMyLmM+LwsoPx9fUl7cfHR1Pj4z//sbEx0Hl5eaQffm9ncHCQxPB19/f3pubVt83z8/OgExMTQcfFxZF+FxcXpsaXzGdEzGdEzGfEkruaOzs7oG02m2G/+Ph40l5bWzM1/sPDA+iysjLQHh4epB9+YIL/Dyml1PX1NeipqSlT8+q3DXAtx7dAqqqqSL/29nZT40vmMyLmM2LJVtPPzw/0ysoKiUVHR4PWT50RERGgcWkxi77F6+joAJ2VlWV4XUlJCejl5WUSw8+FXVxobuJyVVBQYDi+m5u5ai6Zz4iYz4glZQeDH54opdTQ0JBh3+LiYtAzMzPfntvLywu0/uBGPw3/RX89cHV1FbR+ws3MzPxwjNPTU9IODw//11KVUpL5rIj5jIj5jFhe86Oiokh7eHgYdEpKColtbGyAzs3NBX15efntdegPQlpaWkDX19eDNrst/Az9hDsyMmLqOsl8RsR8RiwvOzr4FLq+vk5i+J2ZyclJ0OXl5Y5cEilxo6OjJObv7294Hb7Rtrm5CVrfguJnvZ8hmc+ImM+Iw8sOpq+vj7Srq6tB44/U8H15paz/KAETGBhI2vjjCx1cThYWFr49t2Q+I2I+I2I+I06t+fihi1JKbW1tgQ4NDQVdV1dH+vX39zt2YUxI5jMi5jPi1LKjg1/hKyoqAo1f81BKqaSkJND4uerR0ZHjFucEJPMZEfMZEfMZYa35mM7OTtDNzc2G/fDxX/8I+rchmc+ImM/Ijyk7ISEhoPErhjr4VKxvSX8bkvmMiPmM/Jiy8z8imc+ImM+ImM+ImM+ImM+ImM+ImM+ImM+ImM+ImM+ImM+ImM+ImM/IHyeSQ8S3Y9L1AAAAAElFTkSuQmCC\" y=\"-125.78236\"/>\n   </g>\n   <g id=\"matplotlib.axis_17\"/>\n   <g id=\"matplotlib.axis_18\">\n    <g id=\"text_2\">\n     <!-- torch dataset -->\n     <defs>\n      <path d=\"M 18.3125 70.21875 \nL 18.3125 54.6875 \nL 36.8125 54.6875 \nL 36.8125 47.703125 \nL 18.3125 47.703125 \nL 18.3125 18.015625 \nQ 18.3125 11.328125 20.140625 9.421875 \nQ 21.96875 7.515625 27.59375 7.515625 \nL 36.8125 7.515625 \nL 36.8125 0 \nL 27.59375 0 \nQ 17.1875 0 13.234375 3.875 \nQ 9.28125 7.765625 9.28125 18.015625 \nL 9.28125 47.703125 \nL 2.6875 47.703125 \nL 2.6875 54.6875 \nL 9.28125 54.6875 \nL 9.28125 70.21875 \nz\n\" id=\"DejaVuSans-116\"/>\n      <path d=\"M 30.609375 48.390625 \nQ 23.390625 48.390625 19.1875 42.75 \nQ 14.984375 37.109375 14.984375 27.296875 \nQ 14.984375 17.484375 19.15625 11.84375 \nQ 23.34375 6.203125 30.609375 6.203125 \nQ 37.796875 6.203125 41.984375 11.859375 \nQ 46.1875 17.53125 46.1875 27.296875 \nQ 46.1875 37.015625 41.984375 42.703125 \nQ 37.796875 48.390625 30.609375 48.390625 \nz\nM 30.609375 56 \nQ 42.328125 56 49.015625 48.375 \nQ 55.71875 40.765625 55.71875 27.296875 \nQ 55.71875 13.875 49.015625 6.21875 \nQ 42.328125 -1.421875 30.609375 -1.421875 \nQ 18.84375 -1.421875 12.171875 6.21875 \nQ 5.515625 13.875 5.515625 27.296875 \nQ 5.515625 40.765625 12.171875 48.375 \nQ 18.84375 56 30.609375 56 \nz\n\" id=\"DejaVuSans-111\"/>\n      <path d=\"M 48.78125 52.59375 \nL 48.78125 44.1875 \nQ 44.96875 46.296875 41.140625 47.34375 \nQ 37.3125 48.390625 33.40625 48.390625 \nQ 24.65625 48.390625 19.8125 42.84375 \nQ 14.984375 37.3125 14.984375 27.296875 \nQ 14.984375 17.28125 19.8125 11.734375 \nQ 24.65625 6.203125 33.40625 6.203125 \nQ 37.3125 6.203125 41.140625 7.25 \nQ 44.96875 8.296875 48.78125 10.40625 \nL 48.78125 2.09375 \nQ 45.015625 0.34375 40.984375 -0.53125 \nQ 36.96875 -1.421875 32.421875 -1.421875 \nQ 20.0625 -1.421875 12.78125 6.34375 \nQ 5.515625 14.109375 5.515625 27.296875 \nQ 5.515625 40.671875 12.859375 48.328125 \nQ 20.21875 56 33.015625 56 \nQ 37.15625 56 41.109375 55.140625 \nQ 45.0625 54.296875 48.78125 52.59375 \nz\n\" id=\"DejaVuSans-99\"/>\n      <path d=\"M 54.890625 33.015625 \nL 54.890625 0 \nL 45.90625 0 \nL 45.90625 32.71875 \nQ 45.90625 40.484375 42.875 44.328125 \nQ 39.84375 48.1875 33.796875 48.1875 \nQ 26.515625 48.1875 22.3125 43.546875 \nQ 18.109375 38.921875 18.109375 30.90625 \nL 18.109375 0 \nL 9.078125 0 \nL 9.078125 75.984375 \nL 18.109375 75.984375 \nL 18.109375 46.1875 \nQ 21.34375 51.125 25.703125 53.5625 \nQ 30.078125 56 35.796875 56 \nQ 45.21875 56 50.046875 50.171875 \nQ 54.890625 44.34375 54.890625 33.015625 \nz\n\" id=\"DejaVuSans-104\"/>\n      <path id=\"DejaVuSans-32\"/>\n      <path d=\"M 45.40625 46.390625 \nL 45.40625 75.984375 \nL 54.390625 75.984375 \nL 54.390625 0 \nL 45.40625 0 \nL 45.40625 8.203125 \nQ 42.578125 3.328125 38.25 0.953125 \nQ 33.9375 -1.421875 27.875 -1.421875 \nQ 17.96875 -1.421875 11.734375 6.484375 \nQ 5.515625 14.40625 5.515625 27.296875 \nQ 5.515625 40.1875 11.734375 48.09375 \nQ 17.96875 56 27.875 56 \nQ 33.9375 56 38.25 53.625 \nQ 42.578125 51.265625 45.40625 46.390625 \nz\nM 14.796875 27.296875 \nQ 14.796875 17.390625 18.875 11.75 \nQ 22.953125 6.109375 30.078125 6.109375 \nQ 37.203125 6.109375 41.296875 11.75 \nQ 45.40625 17.390625 45.40625 27.296875 \nQ 45.40625 37.203125 41.296875 42.84375 \nQ 37.203125 48.484375 30.078125 48.484375 \nQ 22.953125 48.484375 18.875 42.84375 \nQ 14.796875 37.203125 14.796875 27.296875 \nz\n\" id=\"DejaVuSans-100\"/>\n      <path d=\"M 44.28125 53.078125 \nL 44.28125 44.578125 \nQ 40.484375 46.53125 36.375 47.5 \nQ 32.28125 48.484375 27.875 48.484375 \nQ 21.1875 48.484375 17.84375 46.4375 \nQ 14.5 44.390625 14.5 40.28125 \nQ 14.5 37.15625 16.890625 35.375 \nQ 19.28125 33.59375 26.515625 31.984375 \nL 29.59375 31.296875 \nQ 39.15625 29.25 43.1875 25.515625 \nQ 47.21875 21.78125 47.21875 15.09375 \nQ 47.21875 7.46875 41.1875 3.015625 \nQ 35.15625 -1.421875 24.609375 -1.421875 \nQ 20.21875 -1.421875 15.453125 -0.5625 \nQ 10.6875 0.296875 5.421875 2 \nL 5.421875 11.28125 \nQ 10.40625 8.6875 15.234375 7.390625 \nQ 20.0625 6.109375 24.8125 6.109375 \nQ 31.15625 6.109375 34.5625 8.28125 \nQ 37.984375 10.453125 37.984375 14.40625 \nQ 37.984375 18.0625 35.515625 20.015625 \nQ 33.0625 21.96875 24.703125 23.78125 \nL 21.578125 24.515625 \nQ 13.234375 26.265625 9.515625 29.90625 \nQ 5.8125 33.546875 5.8125 39.890625 \nQ 5.8125 47.609375 11.28125 51.796875 \nQ 16.75 56 26.8125 56 \nQ 31.78125 56 36.171875 55.265625 \nQ 40.578125 54.546875 44.28125 53.078125 \nz\n\" id=\"DejaVuSans-115\"/>\n      <path d=\"M 56.203125 29.59375 \nL 56.203125 25.203125 \nL 14.890625 25.203125 \nQ 15.484375 15.921875 20.484375 11.0625 \nQ 25.484375 6.203125 34.421875 6.203125 \nQ 39.59375 6.203125 44.453125 7.46875 \nQ 49.3125 8.734375 54.109375 11.28125 \nL 54.109375 2.78125 \nQ 49.265625 0.734375 44.1875 -0.34375 \nQ 39.109375 -1.421875 33.890625 -1.421875 \nQ 20.796875 -1.421875 13.15625 6.1875 \nQ 5.515625 13.8125 5.515625 26.8125 \nQ 5.515625 40.234375 12.765625 48.109375 \nQ 20.015625 56 32.328125 56 \nQ 43.359375 56 49.78125 48.890625 \nQ 56.203125 41.796875 56.203125 29.59375 \nz\nM 47.21875 32.234375 \nQ 47.125 39.59375 43.09375 43.984375 \nQ 39.0625 48.390625 32.421875 48.390625 \nQ 24.90625 48.390625 20.390625 44.140625 \nQ 15.875 39.890625 15.1875 32.171875 \nz\n\" id=\"DejaVuSans-101\"/>\n     </defs>\n     <g transform=\"translate(14.798438 206.666436)rotate(-90)scale(0.1 -0.1)\">\n      <use xlink:href=\"#DejaVuSans-116\"/>\n      <use x=\"39.208984\" xlink:href=\"#DejaVuSans-111\"/>\n      <use x=\"100.390625\" xlink:href=\"#DejaVuSans-114\"/>\n      <use x=\"139.253906\" xlink:href=\"#DejaVuSans-99\"/>\n      <use x=\"194.234375\" xlink:href=\"#DejaVuSans-104\"/>\n      <use x=\"257.613281\" xlink:href=\"#DejaVuSans-32\"/>\n      <use x=\"289.400391\" xlink:href=\"#DejaVuSans-100\"/>\n      <use x=\"352.876953\" xlink:href=\"#DejaVuSans-97\"/>\n      <use x=\"414.15625\" xlink:href=\"#DejaVuSans-116\"/>\n      <use x=\"453.365234\" xlink:href=\"#DejaVuSans-97\"/>\n      <use x=\"514.644531\" xlink:href=\"#DejaVuSans-115\"/>\n      <use x=\"566.744141\" xlink:href=\"#DejaVuSans-101\"/>\n      <use x=\"628.267578\" xlink:href=\"#DejaVuSans-116\"/>\n     </g>\n    </g>\n   </g>\n   <g id=\"patch_43\">\n    <path d=\"M 20.878125 220.78236 \nL 20.878125 125.803636 \n\" style=\"fill:none;stroke:#000000;stroke-linecap:square;stroke-linejoin:miter;stroke-width:0.8;\"/>\n   </g>\n   <g id=\"patch_44\">\n    <path d=\"M 115.856848 220.78236 \nL 115.856848 125.803636 \n\" style=\"fill:none;stroke:#000000;stroke-linecap:square;stroke-linejoin:miter;stroke-width:0.8;\"/>\n   </g>\n   <g id=\"patch_45\">\n    <path d=\"M 20.878125 220.78236 \nL 115.856848 220.78236 \n\" style=\"fill:none;stroke:#000000;stroke-linecap:square;stroke-linejoin:miter;stroke-width:0.8;\"/>\n   </g>\n   <g id=\"patch_46\">\n    <path d=\"M 20.878125 125.803636 \nL 115.856848 125.803636 \n\" style=\"fill:none;stroke:#000000;stroke-linecap:square;stroke-linejoin:miter;stroke-width:0.8;\"/>\n   </g>\n  </g>\n  <g id=\"axes_10\">\n   <g id=\"patch_47\">\n    <path d=\"M 134.852593 220.78236 \nL 229.831316 220.78236 \nL 229.831316 125.803636 \nL 134.852593 125.803636 \nz\n\" style=\"fill:#ffffff;\"/>\n   </g>\n   <g clip-path=\"url(#pf2b94ac1ac)\">\n    <image height=\"95\" id=\"imagea7d8474b54\" transform=\"scale(1 -1)translate(0 -95)\" width=\"95\" x=\"134.852593\" xlink:href=\"data:image/png;base64,\niVBORw0KGgoAAAANSUhEUgAAAF8AAABfCAYAAACOTBv1AAAABHNCSVQICAgIfAhkiAAABElJREFUeJztnU0odk8Yxuf5k6/kM1kQNkKRlJCyspCsUaJkYaFsRBF7hIWSZCFskNgQCzthiSJE8lEWFooiHynv7v7PfXrP+6LnnEvvc/1W13RPM9PV3TxzzpmZJ2CM+TAEwn/oAYQyNB8IzQdC84HQfCA0HwjNB0LzgdB8IOF+dhYdHa3KfX19olNTU0VnZ2ereqenp6IfHh5ELy8vq3o7OztBGadfMPOB0HwgNB9IwHj8VjM/P1/0wsKCiuXl5Yl+fX0VHRkZ+a2+Njc3RTc3N6vY5eXlt9r0EmY+EJoPJOjTTlxcnCqfnJyIPj8/V7Hh4WHRV1dXojMzM13bb21tFV1dXe1az57GjDGmq6tL9OTkpOi3tzfXNryGmQ+E5gMJ+rSTmJioyvZ0sr6+rmL19fVfbj88/P+H8pKSEhWbmpoSnZWVpWIRERGi7VVXS0uLqvf8/PzlMX0XZj4Qmg+E5gPx/Al3aGhIdFtbm4qVlpaKPjw8DGq/9jLWGGM6Ojp+W6+/v1+Ve3t7gzqOP8HMB0LzgXj+MWVsbEx0UVGR190JnZ2dqnx8fCx6fHxcdE9Pj6r3+Pgo2jklBRtmPhCaD4TmA/F8qfkTGR0dFd3e3q5i29vboisqKjwdBzMfCM0HEpLTTm5uruijoyMV47QTItB8IL5uF/wpFBcXo4dgjGHmQ6H5QGg+kJCc8+03mYFAQMXW1tZ8GwczHwjNB+L5E25SUpLojIwMFdvf3/es37KyMlWen5//7TiWlpZUvdraWs/G5ISZD4TmA6H5QDyf82dmZkTX1dWp2MXFhWh7z+TBwYGq9/T0JDosLEx0QkKCqmfv1ayqqnId0+DgoOiBgQEV417NEIHmA/H8CTc+Pl6086Cb/VHDPsB8dnam6tkfPGJjY0VXVla69us8cdLU1CR6cXHxb8P2BWY+EJoPxPPVjn36ZG5uzrXe6uqqaOfdC2lpaaLtEyb2askYvYpZWVlRsbu7u0+O2D+Y+UBoPhCaD8TzOT85OVm08xC0vQzNyckRbd+vY4xeksbExIje3d0N2jgRMPOB0Hwgvm4XnJiYUGX7HoXp6WnRzoPJ/yrMfCA0H4iv005hYaEq7+3tibbfoztviQr2i7CoqCjRLy8vQW37KzDzgdB8IDQfiK/bBf900sO+bXZ2dlbFGhoaPtW+vfXv48P9p8zet3N9fa1iIyMjore2tj7V73dh5gOh+UB8XWraV3QZY0xjY6Po7u5u0c6rwlJSUkTb32adH1PsrST39/eu47Dbs7czGmPM+/u76I2NDRWzn8hvbm5c2/8szHwgNB8IzQfyIw9Bp6enq7J9w6z9GsL5McX+A4Tb21vX9u1rH+153BhjCgoKRNfU1KiYvaW9vLxc9HdfUTDzgdB8ID9y2gkVmPlAaD4Qmg+E5gOh+UBoPhCaD4TmA6H5QGg+EJoPhOYDoflAaD4Qmg+E5gP5BQsJAn/n83nBAAAAAElFTkSuQmCC\" y=\"-125.78236\"/>\n   </g>\n   <g id=\"matplotlib.axis_19\"/>\n   <g id=\"matplotlib.axis_20\"/>\n   <g id=\"patch_48\">\n    <path d=\"M 134.852593 220.78236 \nL 134.852593 125.803636 \n\" style=\"fill:none;stroke:#000000;stroke-linecap:square;stroke-linejoin:miter;stroke-width:0.8;\"/>\n   </g>\n   <g id=\"patch_49\">\n    <path d=\"M 229.831316 220.78236 \nL 229.831316 125.803636 \n\" style=\"fill:none;stroke:#000000;stroke-linecap:square;stroke-linejoin:miter;stroke-width:0.8;\"/>\n   </g>\n   <g id=\"patch_50\">\n    <path d=\"M 134.852593 220.78236 \nL 229.831316 220.78236 \n\" style=\"fill:none;stroke:#000000;stroke-linecap:square;stroke-linejoin:miter;stroke-width:0.8;\"/>\n   </g>\n   <g id=\"patch_51\">\n    <path d=\"M 134.852593 125.803636 \nL 229.831316 125.803636 \n\" style=\"fill:none;stroke:#000000;stroke-linecap:square;stroke-linejoin:miter;stroke-width:0.8;\"/>\n   </g>\n  </g>\n  <g id=\"axes_11\">\n   <g id=\"patch_52\">\n    <path d=\"M 248.827061 220.78236 \nL 343.805785 220.78236 \nL 343.805785 125.803636 \nL 248.827061 125.803636 \nz\n\" style=\"fill:#ffffff;\"/>\n   </g>\n   <g clip-path=\"url(#p3ecb09e18d)\">\n    <image height=\"95\" id=\"image16fe4f0a68\" transform=\"scale(1 -1)translate(0 -95)\" width=\"95\" x=\"248.827061\" xlink:href=\"data:image/png;base64,\niVBORw0KGgoAAAANSUhEUgAAAF8AAABfCAYAAACOTBv1AAAABHNCSVQICAgIfAhkiAAABCBJREFUeJztnE8obVEUxvfVS1IozBADzAxISpkoM/+KkIkSAwYMJYkMkIkSUcoIJTFUDOVP/k5kJBMDAzJRmEjebL2197vHu+845373vvf9Rt+xdvcsn2W19z77nogx5tMQCCnoBP5naD4Qmg+E5gOh+UBoPhCaD4TmA6H5QGg+EJoPhOYDoflAaD4Qmg+E5gOh+UBoPhCaD+QHOoF4UVRUJLq2tlZ0S0uLNa6+vl703d2dFevv7xe9u7v77ZxY+UBoPhCaDyRikvjcTkZGhnVdWVkpenh42IpVVFSIzs7OFh2JRKxxn5/edpydnYmurq7+u2SjwMoHQvOBJMxUs7i4WHROTo4VOz09FV1TUyN6bW3NGldQUBDTvQ4ODkTPzs5asYWFBdF5eXlWLDMzM6bPjxVWPhCaD4TmA4H2/N7eXtHj4+Oic3NzrXEbGxuiOzs7Raemplrjnp6eRF9eXlqxmZkZ0UdHR6Lf39+tcT09PaLdnn9xcRHlt/APKx8IzQcS17bT0NBgXS8vL4v+amXZ1dUV9ed6ymiMMQMDA6Kvrq78pGhKSko8Y9fX174+0wtWPhCaDySubaesrMy6dje1vNCrzs3NTdGHh4ffzsldtaanp4t283Pb3Hdh5QOh+UBoPpDQe35zc7PokZERK6anl6+vr6KHhoascXpK+vHxEWh+W1tb1rXeGb25ubFifqevXrDygdB8IKG3nY6ODtF6Gueip5NLS0uh5qSpq6uzrnUrnJ+ft2Jvb2+B3puVD4TmA6H5QALv+WNjY9Z1W1ub51jd50dHR4NOxRN95tJFT3n39vZCzYOVD4TmAwmk7aSlpYnWK1pjjElJ+fX3dVeMk5OTooNeuboUFhaKnpqa8hw3PT0t+vb2NtScWPlAaD6QQNqOfsBRXl5uxfTswZ3RPDw8BHH7qLhHDnWOWVlZovUxEmOMWVxcDC0nF1Y+EJoPhOYD8d3z8/PzRVdVVYl2z9/oY3rb29t+bxcTelo7ODhoxfS3VnSO7lmi5+fnkLL7HVY+EJoPxHfb0Q8WXl5eRB8fH1vj5ubm/N7ir2lvbxf91UbdysqK6Hi2GRdWPhCaDySQ7+HqFWM8/43dZ8Lr6+uim5qarNjj46NoPfO5v78PKbs/w8oHQvOB0HwggexqoqZr7nTS7fOa1dVV0cg+r2HlA6H5QJLulS+tra2i3RPGesNMn2w2xpi+vr5wE/MBKx8IzQdC84EkRc/XD8PPz89F69c1GmPM/v6+6MbGRiumd14TBVY+EJoPJGFe8/UV+gty+tify8nJiehEbDMurHwgNB9IUrSd7u7umMaVlpaGnEmwsPKB0HwgNB9IUvT8nZ0d0fqVX+77byYmJuKWUxCw8oHQfCBJsbH2r8LKB0LzgdB8IDQfCM0HQvOB/AQd+/kcXyI9ZwAAAABJRU5ErkJggg==\" y=\"-125.78236\"/>\n   </g>\n   <g id=\"matplotlib.axis_21\"/>\n   <g id=\"matplotlib.axis_22\"/>\n   <g id=\"patch_53\">\n    <path d=\"M 248.827061 220.78236 \nL 248.827061 125.803636 \n\" style=\"fill:none;stroke:#000000;stroke-linecap:square;stroke-linejoin:miter;stroke-width:0.8;\"/>\n   </g>\n   <g id=\"patch_54\">\n    <path d=\"M 343.805785 220.78236 \nL 343.805785 125.803636 \n\" style=\"fill:none;stroke:#000000;stroke-linecap:square;stroke-linejoin:miter;stroke-width:0.8;\"/>\n   </g>\n   <g id=\"patch_55\">\n    <path d=\"M 248.827061 220.78236 \nL 343.805785 220.78236 \n\" style=\"fill:none;stroke:#000000;stroke-linecap:square;stroke-linejoin:miter;stroke-width:0.8;\"/>\n   </g>\n   <g id=\"patch_56\">\n    <path d=\"M 248.827061 125.803636 \nL 343.805785 125.803636 \n\" style=\"fill:none;stroke:#000000;stroke-linecap:square;stroke-linejoin:miter;stroke-width:0.8;\"/>\n   </g>\n  </g>\n  <g id=\"axes_12\">\n   <g id=\"patch_57\">\n    <path d=\"M 362.801529 220.78236 \nL 457.780253 220.78236 \nL 457.780253 125.803636 \nL 362.801529 125.803636 \nz\n\" style=\"fill:#ffffff;\"/>\n   </g>\n   <g clip-path=\"url(#pc432f9fda1)\">\n    <image height=\"95\" id=\"image2459a03269\" transform=\"scale(1 -1)translate(0 -95)\" width=\"95\" x=\"362.801529\" xlink:href=\"data:image/png;base64,\niVBORw0KGgoAAAANSUhEUgAAAF8AAABfCAYAAACOTBv1AAAABHNCSVQICAgIfAhkiAAAA+tJREFUeJztnM0rtGEUxu/RGws7RGJiISQUC/kMkVgQiez5B2ykLCg7K7JQyqyJFUpRLFhYKguy8rHDhvJRvt7dcZ+nnnnnnfd+5npnXL/VdTq3mePqOJ57nvuZkDHmyxAIaegCfjI0HwjNB0LzgdB8IDQfCM0HQvOB0HwgNB8IzQdC84HQfCA0HwjNB0LzgdB8IDQfCM0HQvOB0HwgNB8IzQfyC/nm+fn5okdGRkR3dnaqdaWlpaJLSkpEHx0dqXV7e3ui397eVG5lZUX07e1tnBW7hZ0PhOYDCZkEHhfs6elR8dzcnOiMjAzR9mjxcnNzI/r19VXlvr6+f5VwOKxy8/PzoqempmKsOFjY+UBoPhCaD8T5pWZ1dbWKGxsbRQ8ODqpcRUWF6PPzc9Gzs7Nq3c7OjuizszPRDw8PvnUMDw+reGlpSfTp6ano1dVV39cIGnY+EJoPxMnYGRgYEL28vKxy2dnZvj+3sLAgenx83EUpwvb2tort8WLvrJGw84HQfCBOdrjX19eiCwsLfdd1d3ereH9/X/T7+/u/lqEIhUIqrqmpEV1bWyt6c3NTrWtoaBBdXFyscvaYdAE7HwjNB0LzgST0Zop3DttUVlaKtuezMf7/D3Z3d1X8+PgoOisrS+Xsmyk5OTmip6en1bqCggLRT09PKndxcSHa3nXHCzsfCM0H4mTsXF1diY52qen9Uz08PBRdVlYmOjc3N646jo+PRdfX18f1GjaZmZkqtj8k5NhJcmg+EJoPxMnM7+/vF21f0hljTFNTk2jvJ5wtLS0u3l5wMeejcX9/7/T12PlAaD6QwM/t2DcuxsbGVC49PV10UVGR6NbWVrXu+flZ9MbGhuiuri61zt7x2kcMjTGmvLxcdFVVVUy12ztaY4xpbm4W7WIEsfOB0HwgCT0uiGRtbU300NCQ77rLy0vRbW1tKmffNHIBOx8IzQdC84FAn0wJEvsy1hhj6urqYvq5ra0t0a5nvBd2PhCaDyRlx05HR4eK7R20jfd44+TkZGA1eWHnA6H5QFJq7KSlffeS90iIzefnp2h752uMMS8vL+4L84GdD4TmA6H5QFJq5o+OjoqOtqNdXFwUfXBwEGhN0WDnA6H5QFJq7Nzd3cW07uTkJOBKYoOdD4TmA6H5QFJq5vf29vrm7O9sWF9fT0Q5f4SdD4TmA0nqsZOXl6fivr4+37UzMzOi7eOHSNj5QGg+kKQeO+3t7Sq2H774+PhQOdcPNriAnQ+E5gOh+UCSeuZ7v7/HJhKJqBh508QPdj4Qmg8kqceO/X35xuhLz4mJiUSX89ew84HQfCA0H8iPeRrxf4SdD4TmA/kNTnPSXjr8AdwAAAAASUVORK5CYII=\" y=\"-125.78236\"/>\n   </g>\n   <g id=\"matplotlib.axis_23\"/>\n   <g id=\"matplotlib.axis_24\"/>\n   <g id=\"patch_58\">\n    <path d=\"M 362.801529 220.78236 \nL 362.801529 125.803636 \n\" style=\"fill:none;stroke:#000000;stroke-linecap:square;stroke-linejoin:miter;stroke-width:0.8;\"/>\n   </g>\n   <g id=\"patch_59\">\n    <path d=\"M 457.780253 220.78236 \nL 457.780253 125.803636 \n\" style=\"fill:none;stroke:#000000;stroke-linecap:square;stroke-linejoin:miter;stroke-width:0.8;\"/>\n   </g>\n   <g id=\"patch_60\">\n    <path d=\"M 362.801529 220.78236 \nL 457.780253 220.78236 \n\" style=\"fill:none;stroke:#000000;stroke-linecap:square;stroke-linejoin:miter;stroke-width:0.8;\"/>\n   </g>\n   <g id=\"patch_61\">\n    <path d=\"M 362.801529 125.803636 \nL 457.780253 125.803636 \n\" style=\"fill:none;stroke:#000000;stroke-linecap:square;stroke-linejoin:miter;stroke-width:0.8;\"/>\n   </g>\n  </g>\n  <g id=\"axes_13\">\n   <g id=\"patch_62\">\n    <path d=\"M 476.775997 220.78236 \nL 571.754721 220.78236 \nL 571.754721 125.803636 \nL 476.775997 125.803636 \nz\n\" style=\"fill:#ffffff;\"/>\n   </g>\n   <g clip-path=\"url(#p5af2b69506)\">\n    <image height=\"95\" id=\"image11c918916f\" transform=\"scale(1 -1)translate(0 -95)\" width=\"95\" x=\"476.775997\" xlink:href=\"data:image/png;base64,\niVBORw0KGgoAAAANSUhEUgAAAF8AAABfCAYAAACOTBv1AAAABHNCSVQICAgIfAhkiAAABCFJREFUeJztnEsodVEYhpffpRQSklsxIEUuAylTZSBRxNBIUhgIUxkgJZIkRjJQyADJgJAiSQYyMxASUS65lEL8s6/1nb9zfmXv8x68z+jZfevYq7evZZ+91z5BxpgPQyD8QU/gN8PwgTB8IAwfCMMHwvCBMHwgDB8IwwfC8IEwfCAMHwjDBxLiz5PV1taq45GREfGIiAhXz723tyfe0dEhvry87Op5fcHOB8LwgQQZlx+mZGZmiu/u7qpaZGSk+MHBgfjQ0JAa9/LyIr6/vy9eU1OjxhUVFYkXFxerWnBwsPj7+7v46uqqGlddXS3+9PRk3ISdD4ThA3F92UlKShLf2NhQtfT0dPHS0lJxJ65AYmJi1HFDQ4N4Z2eneFhYmBp3eHgoXlhYqGqPj49fnpcNOx8IwwfC8IG4vubbpKWlqWN77bUvQ0dHR12dR1ZWlvjc3JyqZWRkiC8tLalaeXm5o/Ng5wNh+ED8uuwEIvn5+ep4e3tb/PX1VdXy8vLET05Ovnxudj4Qhg+E4QPx68OUQMS+S2qMMUdHR+LZ2dmqlpKSIs41/5vD8IEwfCAMHwjDB/Lrr3ZiY2PVcXR0tLj9rNcYY97e3hw9NzsfCMMHwvCBuL7m2w/Q6+vrVW1hYUHc85umm8TFxYn39PSoWnJysvj5+bmq7ezsODoPdj4Qhg/E9Ycp9k7kxsZGVXt4eBAvKysT39racnwe8fHx4l1dXeKeS6G9RdDe62OMMVNTU47OiZ0PhOEDYfhA/Hp74eND/3uxt4jbe2SamprUuMnJyU/9/YKCAvHKykpVa2trE7f3Z56dnalx9t4ce9u6G7DzgTB8INC7mpeXl+IJCQni4+Pjalx7e7u4rzdT7OXEfhPFGGPu7u7EBwcHxQcGBtS46+vrT83dCdj5QBg+EOiyMzY2Jr6+vi7e0tKixlVVVYnn5uZ6/XvT09Pis7Ozqra2tiZuf7NGws4HwvCBMHwgrq/5t7e3XmtRUVHi9p1Mzwcrw8PD4vZdR/tS1Zh/H34EOux8IAwfiOsPU8LDw8WPj4+9jrPf+ri6unJzSgEDOx8Iwwfi+tXO8/Oz+OLioqrV1dWJNzc3i09MTKhx9hWOr1+ksl9s+A6w84EwfCAMH4hfX4L2fOHYfm6bmJjo9XM3Nzfinlu6bebn58U3NzdVbWZmRvzi4uL/k/UD7HwgDB8I9LcXKioqxFtbW8VzcnK8fub09FQ8NTVV1ezL0NDQUFW7v78X7+/vF/fcpexP2PlAGD4Qhg/kR/3ejn1ntLu7W9VKSkrE7VsefX19alxvb69Ls/sXdj4Qhg/kRy07vrBfgltZWREPCdE3dn3tC3Iadj4Qhg/k1yw7gQg7HwjDB8LwgTB8IAwfCMMHwvCBMHwgDB8IwwfC8IEwfCAMH8hfeH4BObTyG7kAAAAASUVORK5CYII=\" y=\"-125.78236\"/>\n   </g>\n   <g id=\"matplotlib.axis_25\"/>\n   <g id=\"matplotlib.axis_26\"/>\n   <g id=\"patch_63\">\n    <path d=\"M 476.775997 220.78236 \nL 476.775997 125.803636 \n\" style=\"fill:none;stroke:#000000;stroke-linecap:square;stroke-linejoin:miter;stroke-width:0.8;\"/>\n   </g>\n   <g id=\"patch_64\">\n    <path d=\"M 571.754721 220.78236 \nL 571.754721 125.803636 \n\" style=\"fill:none;stroke:#000000;stroke-linecap:square;stroke-linejoin:miter;stroke-width:0.8;\"/>\n   </g>\n   <g id=\"patch_65\">\n    <path d=\"M 476.775997 220.78236 \nL 571.754721 220.78236 \n\" style=\"fill:none;stroke:#000000;stroke-linecap:square;stroke-linejoin:miter;stroke-width:0.8;\"/>\n   </g>\n   <g id=\"patch_66\">\n    <path d=\"M 476.775997 125.803636 \nL 571.754721 125.803636 \n\" style=\"fill:none;stroke:#000000;stroke-linecap:square;stroke-linejoin:miter;stroke-width:0.8;\"/>\n   </g>\n  </g>\n  <g id=\"axes_14\">\n   <g id=\"patch_67\">\n    <path d=\"M 590.750465 220.78236 \nL 685.729189 220.78236 \nL 685.729189 125.803636 \nL 590.750465 125.803636 \nz\n\" style=\"fill:#ffffff;\"/>\n   </g>\n   <g clip-path=\"url(#p285865f050)\">\n    <image height=\"95\" id=\"image2c98761932\" transform=\"scale(1 -1)translate(0 -95)\" width=\"95\" x=\"590.750465\" xlink:href=\"data:image/png;base64,\niVBORw0KGgoAAAANSUhEUgAAAF8AAABfCAYAAACOTBv1AAAABHNCSVQICAgIfAhkiAAABElJREFUeJztnD0odmEYx8/z9kaRkpKvlAELCws2XxlYZGDCoBRiQLJTRpmxWHykLCgWFjKQkuRjxSCUfJSFd7u6rjvn6XE8x//h/f+m/+m6j3M//y5X5/44d8TzvHePQPiD7sD/DM0HQvOB0HwgNB8IzQdC84HQfCA0HwjNB0LzgdB8IDQfyF90B2IhPT1ddHFxsei2tjbTrry8XHR1dbWJvb29iV5YWBA9NjZm2p2enn6pr5+BmQ+E5gOJeD9gMUWXgsLCwpjuiUQi5vr9Pbaf2dzcLHp1dTWme4LCzAdC84EkTNnJz88XPTMzY2L19fWib29vRW9tbZl2+r6npycTy8nJET04OCi6qqrKtDs5ORHd2NhoYpeXl/4/IADMfCA0HwjNB5IwI9yenh7RdXV1Jqbrd0tLi+idnZ1Az9rY2BB9dnZmYiUlJaIrKytNbHl5OdDz/GDmA6H5QKBlJzk5WXRDQ4Nod3RaW1sr+uDg4MvPfXl5Ee2OfN1nhwkzHwjNB0LzgUBrflFRkWg9W+nOJsajzvvh1vxYZz/jATMfCM0HAi07x8fHoldWVkTv7e2F+lw9gs7MzDSxm5sb0e6sabxh5gOh+UASZmKtr69P9Ovra6jP0mUnKSnJxHTJu7u7C7UfzHwgNB8IzQeSMDVfzzSGQUFBgejOzk7R7izm+vp6qP3QMPOB0HwgCVN24o1eqPE8zxsZGRGdlZUl+vr62rSbnp4Ot2MKZj4Qmg+E5gP5tTV/YGDAXHd3d3/Ybnx8/Du68yHMfCA0H0jCbBGPNw8PD+Y6NTVV9Pn5uWh3i7h7X5gw84HQfCChv+3k5uaKHhoa8m2nt5E0NTWZ2OHhoWg9Ir24uDDt9He4aWlpJnZ1dSW6o6ND9PPzs2+fwoaZD4TmA6H5QOLyqqnrq3uWQVdXl+iUlBQTi3Vrnl7wCHJPtPvcxZPNzU3R+/v7JnZ/fy9av64GhZkPhOYDCVx2dAmZm5sTrc8u8Dz777m7u2ti7sfOfpSVlYnWH8TV1NT43nN0dOTbj7y8PNHuCDdaidNlp7S0VLTeYvgZmPlAaD6QwCNcvSaqS83a2pppp0eTQSetRkdHRbvfxmp6e3tFz8/Pm9jj46NoXTIzMjJ8/152dra51idb6e91WXZ+IDQfCM0HErjm61Gtfj2bmJgw7WKt87oOLy4umpie5dSvf+7ZC7rO6xrvorcmRtum6J6v4454vwozHwjNBxKXxRRdCtrb201ML4Tokarn2aO3hoeHRVdUVPj+/e3tbdGtra2mXbRSk4gw84HQfCA0H0jgWU09qzc5OSnanWnUNV8vcHte7Asj/f39opeWlkSH/bVg2DDzgdB8IHFZw9Ufm01NTZmYHp2666p6D44+0352dta0+84z7b8TZj4Qmg/k1+5S/gkw84HQfCA0HwjNB0LzgdB8IDQfCM0HQvOB0HwgNB8IzQdC84H8A7+DLlygtcP1AAAAAElFTkSuQmCC\" y=\"-125.78236\"/>\n   </g>\n   <g id=\"matplotlib.axis_27\"/>\n   <g id=\"matplotlib.axis_28\"/>\n   <g id=\"patch_68\">\n    <path d=\"M 590.750465 220.78236 \nL 590.750465 125.803636 \n\" style=\"fill:none;stroke:#000000;stroke-linecap:square;stroke-linejoin:miter;stroke-width:0.8;\"/>\n   </g>\n   <g id=\"patch_69\">\n    <path d=\"M 685.729189 220.78236 \nL 685.729189 125.803636 \n\" style=\"fill:none;stroke:#000000;stroke-linecap:square;stroke-linejoin:miter;stroke-width:0.8;\"/>\n   </g>\n   <g id=\"patch_70\">\n    <path d=\"M 590.750465 220.78236 \nL 685.729189 220.78236 \n\" style=\"fill:none;stroke:#000000;stroke-linecap:square;stroke-linejoin:miter;stroke-width:0.8;\"/>\n   </g>\n   <g id=\"patch_71\">\n    <path d=\"M 590.750465 125.803636 \nL 685.729189 125.803636 \n\" style=\"fill:none;stroke:#000000;stroke-linecap:square;stroke-linejoin:miter;stroke-width:0.8;\"/>\n   </g>\n  </g>\n  <g id=\"axes_15\">\n   <g id=\"patch_72\">\n    <path d=\"M 704.724934 220.78236 \nL 799.703657 220.78236 \nL 799.703657 125.803636 \nL 704.724934 125.803636 \nz\n\" style=\"fill:#ffffff;\"/>\n   </g>\n   <g clip-path=\"url(#pd03fb643e1)\">\n    <image height=\"95\" id=\"image75b2480c5a\" transform=\"scale(1 -1)translate(0 -95)\" width=\"95\" x=\"704.724934\" xlink:href=\"data:image/png;base64,\niVBORw0KGgoAAAANSUhEUgAAAF8AAABfCAYAAACOTBv1AAAABHNCSVQICAgIfAhkiAAABJJJREFUeJztnEsoblEUx9eHEsWAASXJxEgiA0aeGYgJec0lGRgwU8grYwMGQgYGCCUieWQkmYhMZEJ5RTFBQnJHd921d/e793O+7fxv7vqN/qe9j737t6xvnbP32QEi+iAFQgR6Av8zaj4QNR+Img9EzQei5gNR84Go+UDUfCBqPhA1H4iaD0TNBxLl4o9ER0ezbm1tNdqSkpJYt7e3G20fH6G9UA0EAqyvrq5Y7+/vG/0qKipYDw0NhTTWxMSEcX18fBzSnFygkQ9EzQcSIAeLKf39/aw7OjqCDybSB5G3tOPlns/cl5qayvr6+jqke7yikQ9EzQfiudqJjY1lXVRUFNI98/PzXodjVlZWWJ+cnBhtubm5rAsKCoy2/Px81ikpKUH//traGmtZPRERXVxcfG6yf0EjH4iaD0TNB+K51JQl2dnZWdB+4+PjrJubm70M5YTExETWtbW1rEdGRox+skStq6sz2lz8Zkk08oGo+UCcvFj709NjTk6OiyHC5u7ujvXu7i7rh4cHo19cXBzr0tJSo21paYn16+tr2HPSyAei5gNR84F4LjXl64WNjQ3WeXl5Qe+JinLyExM2MpcvLy8bbXJhyP4tq6mpYb24uBj2PDTygaj5QJwsplRVVbGem5sL2q+3t9e4loswKDY3N43r4uJi1nbakU+4DQ0NYY+tkQ9EzQfipPxYXV1lfXBwYLTJJ1x768js7Cxre2HEL+TiDBFRSUmJb2Nr5ANR84Go+UCc5PyXlxfW6+vrRlt2djbr+Ph4oy0rK4s1Kuc/Pj4a17K8tEvNmJgY1pGRkazf3989ja2RD0TNB+LkCVci10eJiKanp38NZm3hW1hYYN3Y2MjaXuDwE5lC7LRzf3/POjMzk/Xt7a2nsTTygaj5QNR8IM5XN87Pz43r5+dn1nIBhoiourqatVzUmJqacj2toGRkZITcN9Rt5qGikQ9EzQfivNS0qaysZC33vRCZ/8aHh4esCwsLjX5fWXq2tbUZ1zJN2lsJJWlpaay9bh3XyAei5gP58rQjsbdplJeX/7bf2NiYcd3S0vJlc7KRu69PT0+NNpmSZJXk9cM5jXwgaj4QNR+IrzlfnsNARHR0dMQ6ISEh6H1+fpjc09PDurOz02jTfTvfCDUfiK/bhm9ubozr0dFR1n86s2FnZ4f15eUl6+3tbaNfd3d3uFOkrq4u1q5fpNlo5ANR84FAv1YYGBhgLSshuZ5LRJSens5avtCS21KIiN7e3ljbW0KCndnQ1NRk9IuI+BWP9gszOV8XaOQDUfOBqPlAfH3ClU+qRETDw8Os5TZz+5wbee31mC95KuHMzAxrO+fLj6Dr6+uNNj174Ruh5gPxNe3YW0dC/X7Xz9MFt7a2WNslrx7z9Y1Q84Go+UB8zfk2cn/O4OAgazv/u875Mnfv7e0Z/ezy8ivRyAei5gOBph2JLEPLysqMNvt02J/Y66jJycmsn56ejLa+vj7Wk5OTrOXxX36jkQ9EzQfyz6Sd/xGNfCBqPhA1H4iaD0TNB6LmA1Hzgaj5QNR8IGo+EDUfiJoPRM0H8gN48lPuwL8v9QAAAABJRU5ErkJggg==\" y=\"-125.78236\"/>\n   </g>\n   <g id=\"matplotlib.axis_29\"/>\n   <g id=\"matplotlib.axis_30\"/>\n   <g id=\"patch_73\">\n    <path d=\"M 704.724934 220.78236 \nL 704.724934 125.803636 \n\" style=\"fill:none;stroke:#000000;stroke-linecap:square;stroke-linejoin:miter;stroke-width:0.8;\"/>\n   </g>\n   <g id=\"patch_74\">\n    <path d=\"M 799.703657 220.78236 \nL 799.703657 125.803636 \n\" style=\"fill:none;stroke:#000000;stroke-linecap:square;stroke-linejoin:miter;stroke-width:0.8;\"/>\n   </g>\n   <g id=\"patch_75\">\n    <path d=\"M 704.724934 220.78236 \nL 799.703657 220.78236 \n\" style=\"fill:none;stroke:#000000;stroke-linecap:square;stroke-linejoin:miter;stroke-width:0.8;\"/>\n   </g>\n   <g id=\"patch_76\">\n    <path d=\"M 704.724934 125.803636 \nL 799.703657 125.803636 \n\" style=\"fill:none;stroke:#000000;stroke-linecap:square;stroke-linejoin:miter;stroke-width:0.8;\"/>\n   </g>\n  </g>\n  <g id=\"axes_16\">\n   <g id=\"patch_77\">\n    <path d=\"M 818.699402 220.78236 \nL 913.678125 220.78236 \nL 913.678125 125.803636 \nL 818.699402 125.803636 \nz\n\" style=\"fill:#ffffff;\"/>\n   </g>\n   <g clip-path=\"url(#pf62be8f087)\">\n    <image height=\"95\" id=\"imagefb71522cb5\" transform=\"scale(1 -1)translate(0 -95)\" width=\"95\" x=\"818.699402\" xlink:href=\"data:image/png;base64,\niVBORw0KGgoAAAANSUhEUgAAAF8AAABfCAYAAACOTBv1AAAABHNCSVQICAgIfAhkiAAAA4ZJREFUeJztnM0rdGEYxp8xWBlpSinKwlAYRSxsFNlY2Rgrib3CRs1mKKXIHyF/ALGRbJTkY8VCmqZMTZKPYqFMs5F3d/fcp3fE4ZzrnPe9fqvr6Xk67n7dbuc4TMQY82EIhAp0Af8zlA+E8oFQPhDKB0L5QCrRBfyEigrdO3V1dZLn5ubUXk9Pj+TR0VFvC/si7HwglA8k1GOnra1Nra+vryWXSiW1NzMz40tN34GdD4TygVA+kNDN/PHxcckrKytlz2UyGbXe2NjwrCa3sPOBUD6Q0I2d9vZ2yYlEQu0VCgXJm5ubvtXkFnY+EMoHEjEhe4ebz+clNzQ0qL3JyUnJW1tbvtXkFnY+EMoHQvlAQnGrOT09Lbm5uVny/v6+OheGOW/DzgdC+UBCcat5c3MjuampSfLQ0JA6d3Jy4ltNvwE7HwjlA6F8IIG81ezt7VXr+vp6yaurq5LDNuOdsPOBUD6QQI6d+fl5ta6pqQFV4i3sfCCUDySQY6erq0utI5GI5O3tbb/L8Qx2PhDKB0L5QAIz8/v7+yW3tLSoPfslydXVlW81eQ07HwjlAwnM2BkYGJDsfKK9v7+X/P7+7ltNXsPOB0L5QCgfCPQFend3t+Tz83PJVVVV6lxHR4fkbDbrfWE+wc4HQvlAoLea1dXVf80fH3oSvr29+VaTn7DzgVA+EOjYsf+BLZfLSXZ+pkI5otGoWjc2Nkq2P+LFGGN2d3fdlFiW2tpaya+vr66uwc4HQvlAKB8IdOY/Pj5Kvri4kNza2qrO2R/LZb9YSSaT6tzBwYHkdDr94/rs219jjBkcHJQ8NTUleWJiwtX12flAKB9IYP4zZWRkRPLe3p7au729lXx0dCTZ+e1+fHwsOZVKqb2np6dv17SwsKDWa2trkg8PDyUPDw9/+9rGsPOhUD6QwLzDPT09lby4uKj2lpeXJX92Z3F5eSnZ+fT7VTo7OyX39fWpvbOzM8nr6+uurm/DzgdC+UAoH0hgbjVtYrGYWi8tLUmenZ2VXFlZ/kfWw8ODWheLxS997Xg8Ltn5LnlsbEyy/TTtFnY+EMoHEsix8xn2L9l2dnbKnru7u1Nr+09TXl5eJD8/P5e9hnO02E+1vwE7HwjlA6F8IKGb+f8S7HwglA+E8oFQPhDKB0L5QCgfCOUDoXwglA+E8oFQPhDKB0L5QCgfCOUDoXwglA+E8oH8AddHrQLzkzvmAAAAAElFTkSuQmCC\" y=\"-125.78236\"/>\n   </g>\n   <g id=\"matplotlib.axis_31\"/>\n   <g id=\"matplotlib.axis_32\"/>\n   <g id=\"patch_78\">\n    <path d=\"M 818.699402 220.78236 \nL 818.699402 125.803636 \n\" style=\"fill:none;stroke:#000000;stroke-linecap:square;stroke-linejoin:miter;stroke-width:0.8;\"/>\n   </g>\n   <g id=\"patch_79\">\n    <path d=\"M 913.678125 220.78236 \nL 913.678125 125.803636 \n\" style=\"fill:none;stroke:#000000;stroke-linecap:square;stroke-linejoin:miter;stroke-width:0.8;\"/>\n   </g>\n   <g id=\"patch_80\">\n    <path d=\"M 818.699402 220.78236 \nL 913.678125 220.78236 \n\" style=\"fill:none;stroke:#000000;stroke-linecap:square;stroke-linejoin:miter;stroke-width:0.8;\"/>\n   </g>\n   <g id=\"patch_81\">\n    <path d=\"M 818.699402 125.803636 \nL 913.678125 125.803636 \n\" style=\"fill:none;stroke:#000000;stroke-linecap:square;stroke-linejoin:miter;stroke-width:0.8;\"/>\n   </g>\n  </g>\n </g>\n <defs>\n  <clipPath id=\"p0f347b1032\">\n   <rect height=\"94.978723\" width=\"94.978723\" x=\"20.878125\" y=\"7.2\"/>\n  </clipPath>\n  <clipPath id=\"pe784ed0567\">\n   <rect height=\"94.978723\" width=\"94.978723\" x=\"134.852593\" y=\"7.2\"/>\n  </clipPath>\n  <clipPath id=\"p46170f91a3\">\n   <rect height=\"94.978723\" width=\"94.978723\" x=\"248.827061\" y=\"7.2\"/>\n  </clipPath>\n  <clipPath id=\"pb3f07710ba\">\n   <rect height=\"94.978723\" width=\"94.978723\" x=\"362.801529\" y=\"7.2\"/>\n  </clipPath>\n  <clipPath id=\"p469360e3d6\">\n   <rect height=\"94.978723\" width=\"94.978723\" x=\"476.775997\" y=\"7.2\"/>\n  </clipPath>\n  <clipPath id=\"p06617472d0\">\n   <rect height=\"94.978723\" width=\"94.978723\" x=\"590.750465\" y=\"7.2\"/>\n  </clipPath>\n  <clipPath id=\"pb2708750d3\">\n   <rect height=\"94.978723\" width=\"94.978723\" x=\"704.724934\" y=\"7.2\"/>\n  </clipPath>\n  <clipPath id=\"pb7374da0a8\">\n   <rect height=\"94.978723\" width=\"94.978723\" x=\"818.699402\" y=\"7.2\"/>\n  </clipPath>\n  <clipPath id=\"pafd959856f\">\n   <rect height=\"94.978723\" width=\"94.978723\" x=\"20.878125\" y=\"125.803636\"/>\n  </clipPath>\n  <clipPath id=\"pf2b94ac1ac\">\n   <rect height=\"94.978723\" width=\"94.978723\" x=\"134.852593\" y=\"125.803636\"/>\n  </clipPath>\n  <clipPath id=\"p3ecb09e18d\">\n   <rect height=\"94.978723\" width=\"94.978723\" x=\"248.827061\" y=\"125.803636\"/>\n  </clipPath>\n  <clipPath id=\"pc432f9fda1\">\n   <rect height=\"94.978723\" width=\"94.978723\" x=\"362.801529\" y=\"125.803636\"/>\n  </clipPath>\n  <clipPath id=\"p5af2b69506\">\n   <rect height=\"94.978723\" width=\"94.978723\" x=\"476.775997\" y=\"125.803636\"/>\n  </clipPath>\n  <clipPath id=\"p285865f050\">\n   <rect height=\"94.978723\" width=\"94.978723\" x=\"590.750465\" y=\"125.803636\"/>\n  </clipPath>\n  <clipPath id=\"pd03fb643e1\">\n   <rect height=\"94.978723\" width=\"94.978723\" x=\"704.724934\" y=\"125.803636\"/>\n  </clipPath>\n  <clipPath id=\"pf62be8f087\">\n   <rect height=\"94.978723\" width=\"94.978723\" x=\"818.699402\" y=\"125.803636\"/>\n  </clipPath>\n </defs>\n</svg>\n"
          },
          "metadata": {}
        }
      ]
    },
    {
      "cell_type": "code",
      "source": [
        "# Important to know: we haven't actually increased the amount of data\n",
        "len(train_data)"
      ],
      "metadata": {
        "colab": {
          "base_uri": "https://localhost:8080/"
        },
        "id": "mfSyYNQJaZVa",
        "outputId": "d404928a-4a1d-4dba-ee22-1d6f99a6292f"
      },
      "execution_count": 13,
      "outputs": [
        {
          "output_type": "execute_result",
          "data": {
            "text/plain": [
              "8"
            ]
          },
          "metadata": {},
          "execution_count": 13
        }
      ]
    },
    {
      "cell_type": "code",
      "source": [
        ""
      ],
      "metadata": {
        "id": "XmPdomvjrmXq"
      },
      "execution_count": null,
      "outputs": []
    }
  ]
}